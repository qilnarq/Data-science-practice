{
 "cells": [
  {
   "cell_type": "code",
   "execution_count": null,
   "id": "7b9221db",
   "metadata": {},
   "outputs": [],
   "source": [
    "import torch\n",
    "import matplotlib.pyplot as plt\n",
    "import matplotlib\n",
    "matplotlib.rcParams['figure.figsize'] = (13.0, 5.0)"
   ]
  },
  {
   "cell_type": "code",
   "execution_count": null,
   "id": "10ecbd24",
   "metadata": {},
   "outputs": [],
   "source": [
    "x_train = torch.rand(100)\n",
    "x_train = x_train * 20.0 - 10.0\n",
    "\n",
    "y_train = torch.sin(x_train)\n",
    "\n",
    "plt.plot(x_train.numpy(), y_train.numpy(), 'o')\n",
    "plt.title('$y = sin(x)$')"
   ]
  },
  {
   "cell_type": "code",
   "execution_count": null,
   "id": "ae206a65",
   "metadata": {},
   "outputs": [],
   "source": [
    "noise = torch.randn(y_train.shape) / 5.\n",
    "\n",
    "plt.plot(x_train.numpy(), noise.numpy(), 'o')\n",
    "plt.axis([-10, 10, -1, 1])\n",
    "plt.title('Gaussian noise')"
   ]
  },
  {
   "cell_type": "code",
   "execution_count": null,
   "id": "5399af24",
   "metadata": {},
   "outputs": [],
   "source": [
    "y_train = y_train + noise\n",
    "plt.plot(x_train.numpy(), y_train.numpy(), 'o')\n",
    "plt.title('noisy sin(x)')\n",
    "plt.xlabel('x_train')\n",
    "plt.ylabel('y_train')"
   ]
  },
  {
   "cell_type": "code",
   "execution_count": null,
   "id": "b4b10bab",
   "metadata": {},
   "outputs": [],
   "source": [
    "x_train.unsqueeze_(1)\n",
    "y_train.unsqueeze_(1)"
   ]
  },
  {
   "cell_type": "code",
   "execution_count": null,
   "id": "ca0009d0",
   "metadata": {},
   "outputs": [],
   "source": [
    "x_validation = torch.linspace(-10, 10, 100)\n",
    "y_validation = torch.sin(x_validation.data)\n",
    "plt.plot(x_validation.numpy(), y_validation.numpy(), 'o')\n",
    "plt.title('sin(x)')\n",
    "plt.xlabel('x_validation')\n",
    "plt.ylabel('y_validation');"
   ]
  },
  {
   "cell_type": "markdown",
   "id": "93e4122e",
   "metadata": {},
   "source": [
    "# Архитектура модели"
   ]
  },
  {
   "cell_type": "code",
   "execution_count": null,
   "id": "d72b4846",
   "metadata": {},
   "outputs": [],
   "source": [
    "class SineNet(torch.nn.Module):\n",
    "    def __init__(self, n_hidden_neurons):\n",
    "        super(SineNet, self).__init__()\n",
    "        self.fc1 = torch.nn.Linear(1, n_hidden_neurons) # Линейная часть\n",
    "        self.act1 = torch.nn.Sigmoid() # Сигмоидная функция активации\n",
    "        self.fc2 = torch.nn.Linear(n_hidden_neurons, 1) # Линейная часть\n",
    "    def forward(self, x):\n",
    "        x = self.fc1(x)\n",
    "        x = self.act1(x)\n",
    "        x = self.fc2(x)\n",
    "        return x\n",
    "\n",
    "sine_net = SineNet(50) # 50 - колво нейронов в скрытом слое"
   ]
  },
  {
   "cell_type": "code",
   "execution_count": null,
   "id": "84ae1f3b",
   "metadata": {},
   "outputs": [],
   "source": [
    "# Предсказание на рандомных весовых кф.\n",
    "def predict(net, x, y):\n",
    "    y_pred = net.forward(x)\n",
    "\n",
    "    plt.plot(x.numpy(), y.numpy(), 'o', label='Groud truth')\n",
    "    plt.plot(x.numpy(), y_pred.data.numpy(), 'o', c='r', label='Prediction');\n",
    "    plt.legend(loc='upper left')\n",
    "    plt.xlabel('$x$')\n",
    "    plt.ylabel('$y$')\n",
    "\n",
    "predict(sine_net, x_validation, y_validation)"
   ]
  },
  {
   "cell_type": "markdown",
   "id": "49f47eb5",
   "metadata": {},
   "source": [
    "# Обучение нейросети"
   ]
  },
  {
   "cell_type": "code",
   "execution_count": null,
   "id": "a54f8c15",
   "metadata": {},
   "outputs": [],
   "source": [
    "optimizer = tch.optim.Adam(sine_net.parameters(),lr=0.01)\n",
    "# Внутрь метода передаются веса которые содержатся в атрибуте parameters"
   ]
  },
  {
   "cell_type": "code",
   "execution_count": null,
   "id": "09c8750f",
   "metadata": {},
   "outputs": [],
   "source": [
    "# Функция потерь\n",
    "def loss(pred,target):\n",
    "    squares = (target - pred)**2\n",
    "    return squares.mean()"
   ]
  },
  {
   "cell_type": "code",
   "execution_count": null,
   "id": "2afc32b2",
   "metadata": {},
   "outputs": [],
   "source": [
    "for epoch_index in range(2000): # 2000 эпох\n",
    "    optimizer.zero_grad() # Зануляем градиенты\n",
    "\n",
    "    y_pred = sine_net.forward(x_train) # Построили сеть с весовыми кф.\n",
    "    loss_val = loss(y_pred, y_train) # Посчитали функцию потреь\n",
    "\n",
    "    loss_val.backward() # Нашли градиенту по весам  функции потерь\n",
    "\n",
    "    optimizer.step() # Сделали спуск\n",
    "\n",
    "predict(sine_net, x_validation, y_validation)"
   ]
  },
  {
   "cell_type": "markdown",
   "id": "0b7f6089",
   "metadata": {},
   "source": [
    "# Нейросеть для классификации"
   ]
  },
  {
   "cell_type": "code",
   "execution_count": null,
   "id": "47356f37",
   "metadata": {},
   "outputs": [],
   "source": [
    "import torch\n",
    "import random\n",
    "import numpy as np\n",
    "\n",
    "random.seed(0)\n",
    "np.random.seed(0)\n",
    "torch.manual_seed(0)\n",
    "torch.cuda.manual_seed(0)\n",
    "torch.backends.cudnn.deterministic = True"
   ]
  },
  {
   "cell_type": "code",
   "execution_count": null,
   "id": "68d1701b",
   "metadata": {},
   "outputs": [],
   "source": [
    "import sklearn.datasets\n",
    "wine = sklearn.datasets.load_wine()\n",
    "wine.data.shape"
   ]
  },
  {
   "cell_type": "code",
   "execution_count": null,
   "id": "bbd50814",
   "metadata": {},
   "outputs": [],
   "source": [
    "from sklearn.model_selection import train_test_split\n",
    "\n",
    "X_train,X_test,y_train,y_test = train_test_split(wine.data[:, :2], \n",
    "    wine.target, \n",
    "    test_size=0.3, \n",
    "    shuffle=True)\n",
    "\n",
    "X_train = torch.FloatTensor(X_train)\n",
    "X_test = torch.FloatTensor(X_test)\n",
    "y_train = torch.LongTensor(y_train)\n",
    "y_test = torch.LongTensor(y_test)"
   ]
  },
  {
   "cell_type": "code",
   "execution_count": null,
   "id": "9b3d391e",
   "metadata": {},
   "outputs": [],
   "source": [
    "class WineNet(tch.nn.Module):\n",
    "    def __init__(self,n_hidden_neurons):\n",
    "        super(WineNet, self).__init__()\n",
    "        self.fc1 = tch.nn.Linear(2,n_hidden_neurons)\n",
    "        self.act1 = tch.nn.Sigmoid()\n",
    "        self.fc2 = tch.nn.Linear(n_hidden_neurons,n_hidden_neurons)\n",
    "        self.act2 = tch.nn.Sigmoid()\n",
    "        self.fc3 = tch.nn.Linear(n_hidden_neurons,3)\n",
    "        self.sm = tch.nn.Softmax(dim=1)\n",
    "   \n",
    "    def forward(self,x):\n",
    "        x = self.fc1(x)\n",
    "        x = self.act1(x)\n",
    "        x = self.fc2(x)\n",
    "        x = self.act2(x)\n",
    "        x = self.fc3(x)\n",
    "        return x\n",
    "        \n",
    "        \n",
    "    def inference(self,x):\n",
    "        x = self.forward(x)\n",
    "        x = self.sm(x)\n",
    "        return x\n",
    "    \n",
    "wine_net = WineNet(5)"
   ]
  },
  {
   "cell_type": "code",
   "execution_count": null,
   "id": "80154277",
   "metadata": {},
   "outputs": [],
   "source": [
    "loss = tch.nn.CrossEntropyLoss()\n",
    "\n",
    "optimizer = tch.optim.Adam(wine_net.parameters(),lr=1.0e-3)"
   ]
  },
  {
   "cell_type": "code",
   "execution_count": null,
   "id": "76e81561",
   "metadata": {},
   "outputs": [],
   "source": [
    "np.random.permutation(10) # Для рандомного смешивания "
   ]
  },
  {
   "cell_type": "code",
   "execution_count": null,
   "id": "e99f5591",
   "metadata": {},
   "outputs": [],
   "source": [
    "batch = 10\n",
    "\n",
    "for epoch in range(5000):\n",
    "    order = np.random.permutation(len(X_train))\n",
    "    for start_index in range(0,len(X_train),batch):\n",
    "        optimizer.zero_grad()\n",
    "        batch_index = order[start_index:start_index+batch]\n",
    "        \n",
    "        X_train_batch = X_train[batch_index]\n",
    "        y_train_batch = y_train[batch_index]\n",
    "        \n",
    "        pred = wine_net.forward(X_train_batch)\n",
    "        \n",
    "        loss_pred = loss(pred,y_train_batch)\n",
    "        \n",
    "        loss_pred.backward()\n",
    "        \n",
    "        optimizer.step()\n",
    "        \n",
    "    if epoch % 100 == 0:\n",
    "        test_pred = wine_net.forward(X_test)\n",
    "        test_pred = test_pred.argmax(dim=1)\n",
    "        print((test_pred == y_test).float().mean())"
   ]
  },
  {
   "cell_type": "code",
   "execution_count": null,
   "id": "c58591c5",
   "metadata": {},
   "outputs": [],
   "source": []
  },
  {
   "cell_type": "code",
   "execution_count": null,
   "id": "47a87cd5",
   "metadata": {},
   "outputs": [],
   "source": []
  }
 ],
 "metadata": {
  "kernelspec": {
   "display_name": "Python 3 (ipykernel)",
   "language": "python",
   "name": "python3"
  },
  "language_info": {
   "codemirror_mode": {
    "name": "ipython",
    "version": 3
   },
   "file_extension": ".py",
   "mimetype": "text/x-python",
   "name": "python",
   "nbconvert_exporter": "python",
   "pygments_lexer": "ipython3",
   "version": "3.9.7"
  }
 },
 "nbformat": 4,
 "nbformat_minor": 5
}

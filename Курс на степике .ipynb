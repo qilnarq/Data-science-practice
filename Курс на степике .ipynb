{
 "cells": [
  {
   "cell_type": "code",
   "execution_count": null,
   "id": "2f8495ed",
   "metadata": {},
   "outputs": [],
   "source": [
    "import pandas as pd\n",
    "import numpy as np\n",
    "import seaborn as sns\n",
    "import matplotlib.pyplot as plt\n",
    "from sklearn import tree\n",
    "from sklearn.model_selection import train_test_split\n",
    "from sklearn.model_selection import cross_val_score # Кроссвалидации при обучении\n",
    "from sklearn.model_selection import GridSearchCV # Для подбора лучших параметров для обучения решающего дерева\n",
    "from sklearn.model_selection import RandomizedSearchCV\n",
    "from sklearn.metrics import precision_score, recall_score # Для расчета метрик качества модели\n",
    "from sklearn.metrics import roc_curve, auc # Для графика рок-кривой\n",
    "from sklearn.ensemble import RandomForestClassifier # Для создания рандомног леса\n",
    "from sklearn.datasets import make_classification\n",
    "from sklearn.metrics import confusion_matrix"
   ]
  },
  {
   "cell_type": "markdown",
   "id": "31716d6b",
   "metadata": {},
   "source": [
    "events_train.csv - данные о действиях, которые совершают студенты со стэпами\n",
    "\n",
    "step_id - id стэпа\n",
    "user_id - анонимизированный id юзера\n",
    "timestamp - время наступления события в формате unix date\n",
    "action - событие, возможные значения: \n",
    "discovered - пользователь перешел на стэп\n",
    "viewed - просмотр шага,\n",
    "started_attempt - начало попытки решить шаг, ранее нужно было явно нажать на кнопку - начать решение, перед тем как приступить к решению практического шага\n",
    "passed - удачное решение практического шага"
   ]
  },
  {
   "cell_type": "markdown",
   "id": "43705325",
   "metadata": {},
   "source": [
    "submissions_train.csv - данные о времени и статусах сабмитов к практическим заданиям\n",
    "\n",
    "step_id - id стэпа\n",
    "timestamp - время отправки решения в формате unix date\n",
    "submission_status - статус решения\n",
    "user_id - анонимизированный id юзера"
   ]
  },
  {
   "cell_type": "code",
   "execution_count": 1,
   "id": "ef821e02",
   "metadata": {},
   "outputs": [
    {
     "ename": "NameError",
     "evalue": "name 'pd' is not defined",
     "output_type": "error",
     "traceback": [
      "\u001b[1;31m---------------------------------------------------------------------------\u001b[0m",
      "\u001b[1;31mNameError\u001b[0m                                 Traceback (most recent call last)",
      "Input \u001b[1;32mIn [1]\u001b[0m, in \u001b[0;36m<cell line: 1>\u001b[1;34m()\u001b[0m\n\u001b[1;32m----> 1\u001b[0m events_train \u001b[38;5;241m=\u001b[39m \u001b[43mpd\u001b[49m\u001b[38;5;241m.\u001b[39mread_csv(\u001b[38;5;124m'\u001b[39m\u001b[38;5;124mC:\u001b[39m\u001b[38;5;130;01m\\\\\u001b[39;00m\u001b[38;5;124mUsers\u001b[39m\u001b[38;5;130;01m\\\\\u001b[39;00m\u001b[38;5;124mИльнар\u001b[39m\u001b[38;5;130;01m\\\\\u001b[39;00m\u001b[38;5;124mData science\u001b[39m\u001b[38;5;130;01m\\\\\u001b[39;00m\u001b[38;5;124mevent_data_train.zip\u001b[39m\u001b[38;5;124m'\u001b[39m,compression\u001b[38;5;241m=\u001b[39m \u001b[38;5;124m'\u001b[39m\u001b[38;5;124mzip\u001b[39m\u001b[38;5;124m'\u001b[39m)\n\u001b[0;32m      2\u001b[0m submissions_train \u001b[38;5;241m=\u001b[39m pd\u001b[38;5;241m.\u001b[39mread_csv(\u001b[38;5;124m'\u001b[39m\u001b[38;5;124mC:\u001b[39m\u001b[38;5;130;01m\\\\\u001b[39;00m\u001b[38;5;124mUsers\u001b[39m\u001b[38;5;130;01m\\\\\u001b[39;00m\u001b[38;5;124mИльнар\u001b[39m\u001b[38;5;130;01m\\\\\u001b[39;00m\u001b[38;5;124mData science\u001b[39m\u001b[38;5;130;01m\\\\\u001b[39;00m\u001b[38;5;124msubmissions_data_train.zip\u001b[39m\u001b[38;5;124m'\u001b[39m,compression\u001b[38;5;241m=\u001b[39m\u001b[38;5;124m'\u001b[39m\u001b[38;5;124mzip\u001b[39m\u001b[38;5;124m'\u001b[39m)\n\u001b[0;32m      3\u001b[0m events_train\u001b[38;5;241m.\u001b[39mhead()\n",
      "\u001b[1;31mNameError\u001b[0m: name 'pd' is not defined"
     ]
    }
   ],
   "source": [
    "events_train = pd.read_csv('C:\\\\Users\\\\Ильнар\\\\Data science\\\\event_data_train.zip',compression= 'zip')\n",
    "submissions_train = pd.read_csv('C:\\\\Users\\\\Ильнар\\\\Data science\\\\submissions_data_train.zip',compression='zip')\n",
    "events_train.head()\n",
    "submissions_train.head()"
   ]
  },
  {
   "cell_type": "code",
   "execution_count": null,
   "id": "31b41f77",
   "metadata": {},
   "outputs": [],
   "source": [
    "# Просмотр(Проверка) данных перед предобработкой\n",
    "\n",
    "# Для дата фрейма events_train\n",
    "events_train.action.unique()\n",
    "events_train['date'] = pd.to_datetime(events_train.timestamp, unit = 's')\n",
    "# events_train.head()\n",
    "events_train.date.min() # Первый просмотр курса\n",
    "events_train.date.max() # Последний просмотр\n",
    "events_train['day'] = events_train.date.dt.date\n",
    "events_train.head()\n",
    "\n",
    "# Для дата фрейма submissions_train\n",
    "submissions_train['date'] = pd.to_datetime(submissions_train.timestamp, unit = 's')\n",
    "submissions_train['day'] = submissions_train.date.dt.date\n",
    "submissions_train.head()"
   ]
  },
  {
   "cell_type": "code",
   "execution_count": null,
   "id": "d06a421b",
   "metadata": {},
   "outputs": [],
   "source": [
    "# Просмотр уникальных пользователей по датам\n",
    "events_train.groupby('day').user_id.nunique()\n",
    "events_train.groupby('day').user_id.nunique().plot(figsize = (20,10))"
   ]
  },
  {
   "cell_type": "code",
   "execution_count": null,
   "id": "35cf800e",
   "metadata": {},
   "outputs": [],
   "source": [
    "# pivot_table - переворачивает дата фрейм где индексы строк это id пользователя, названия столбцов это значения \n",
    "# которые принимает столбец action, values это столбец к которому применяется функция aggfunc\n",
    "\n",
    "users_events_data = events_train.pivot_table(index = 'user_id', columns = 'action', values = 'step_id', aggfunc = 'count',\n",
    "                        fill_value = 0).reset_index()\n",
    "# График распределения\n",
    "events_train.pivot_table(index = 'user_id', columns = 'action', values = 'step_id', aggfunc = 'count',\n",
    "                        fill_value = 0).discovered.hist()\n",
    "users_events_data.head()"
   ]
  },
  {
   "cell_type": "code",
   "execution_count": null,
   "id": "d8d626be",
   "metadata": {},
   "outputs": [],
   "source": [
    "# Просмотр пользователей по количеству равильных ответов и неправильных для submissions_train\n",
    "\n",
    "user_score = submissions_train.pivot_table(index = 'user_id', columns = 'submission_status', values = 'step_id', \n",
    "                                           aggfunc = 'count', fill_value = 0).reset_index()\n",
    "user_score.head()"
   ]
  },
  {
   "cell_type": "code",
   "execution_count": null,
   "id": "e683c2e5",
   "metadata": {},
   "outputs": [],
   "source": [
    "# Рассчитываем период времени для пользователей их периоды отсутствия на курсе\n",
    "# drop_duplicates - убирает повторяющиеся значения\n",
    "events_train[['step_id','user_id']].head().drop_duplicates()"
   ]
  },
  {
   "cell_type": "code",
   "execution_count": null,
   "id": "84f0be63",
   "metadata": {},
   "outputs": [],
   "source": [
    "# Для каждого пользователя отфильровали время нахождения на курсе(например если пользователь за 1 день заходил 10 раз\n",
    "# мы считали только 1 день)\n",
    "events_train[['user_id','timestamp','day']].drop_duplicates(subset = ['user_id', 'day']).head()\n",
    "\n",
    "# Для каждого пользователя соберем уникальные дни его нахождения в курсе(вернем результат в виде списка)\n",
    "events_train[['user_id','timestamp','day']].drop_duplicates(subset = ['user_id', 'day'])\\\n",
    "    .groupby('user_id').timestamp.apply(list).head()\n",
    "\n",
    "# Для каждого списка считаем сколько времени в виде unix date прошло между ближайшеми днями\n",
    "events_train[['user_id','timestamp','day']].drop_duplicates(subset = ['user_id', 'day'])\\\n",
    "    .groupby('user_id').timestamp.apply(list)\\\n",
    "    .apply(np.diff).head()\n",
    "\n",
    "# Вернет массив с массивами разниц времени между ближайшеми днями для каждого пользователя\n",
    "gap_data= events_train[['user_id','timestamp','day']].drop_duplicates(subset = ['user_id', 'day'])\\\n",
    "    .groupby('user_id').timestamp.apply(list)\\\n",
    "    .apply(np.diff).values\n",
    "\n",
    "# Все разницы соберем в одну пандосовскую серию для статистического теста\n",
    "gap_data = pd.Series(np.concatenate(gap_data, axis = 0))\n",
    "gap_data = gap_data/(24*60*60) # Разница в днях\n",
    "gap_data"
   ]
  },
  {
   "cell_type": "code",
   "execution_count": null,
   "id": "f1608322",
   "metadata": {},
   "outputs": [],
   "source": [
    "# Визуализация\n",
    "# Убираем слишком большие выбросы\n",
    "gap_data[gap_data<200].hist() # большинство разниц между ближайшеми уникальными днями от 0 до 25 дней"
   ]
  },
  {
   "cell_type": "code",
   "execution_count": null,
   "id": "fc1ea110",
   "metadata": {},
   "outputs": [],
   "source": [
    "gap_data.quantile(0.95) # только 5% людей возвращаются после отсутствия на курсе больше 60 дней\n",
    "gap_data.quantile(0.90)\n",
    "\n",
    "# Для критического значения возьмем 30 дней между 0.90 и 0.95. Если пользователь не прошел курс до конца и он\n",
    "# отсутствует больше 30 дней он будет считаться ушедшим из курса\n",
    "time_porog = 30*24*60*60  # Пороговое значения 30 дней в виде timestamp"
   ]
  },
  {
   "cell_type": "code",
   "execution_count": null,
   "id": "c4550232",
   "metadata": {},
   "outputs": [],
   "source": [
    "# Последний timestamp - последний день(день когда выгрузили данные и начали анализ, т.е текущее время)\n",
    "last_day = events_train.timestamp.max() \n",
    "time_porog = 30*24*60*60  # Пороговое значения 30 дней в виде timestamp\n",
    "# относительно этого числа будем считать\n",
    "# Для каждого пользователя найдем его последний день нахождения на курсе(последний timestamp)\n",
    "users_data = events_train.groupby('user_id',as_index = False).agg({'timestamp':'max'})\\\n",
    ".rename(columns = {'timestamp':'last_timestamp'})\n",
    "# Посчитаем для каждого пользователя разницу между текущим днем и его последним посещением курса\n",
    "# Если после его последнего посещения прошло больше порогового значения и он не закончил курс то он считает ушедшим из курса\n",
    "users_data['is_gone_user'] = (last_day - users_data.last_timestamp) > time_porog\n",
    "users_data.head()"
   ]
  },
  {
   "cell_type": "code",
   "execution_count": null,
   "id": "616fc3ef",
   "metadata": {},
   "outputs": [],
   "source": [
    "# Добавим к дата фрейму дата фрейм с количесвтом правильных и неправильных ответов по id пользователя\n",
    "# inner join - берем пересечения user_id в обоих дата фреймах и по ним объединяем.\n",
    "# если какой-то user_id отсутствует в каком-то дата фрейме мы его выкидываем. Чтобы так не терять пользователей\n",
    "# функции merge передаем аргумент how = 'outer'\n",
    "# user_score.head()\n",
    "# users_data.head()\n",
    "users_data = users_data.merge(user_score, how='outer')\n",
    "# users_data.head()\n",
    "users_data = users_data.fillna(0)\n",
    "# users_data.head()\n",
    "# Добавим еще дата фрейм с количеством степов для каждого пользователя\n",
    "# users_events_data.head()\n",
    "users_data = users_data.merge(users_events_data, how = 'outer')\n",
    "users_data.head()"
   ]
  },
  {
   "cell_type": "code",
   "execution_count": null,
   "id": "666fea7b",
   "metadata": {},
   "outputs": [],
   "source": [
    "# Найдем для каждого пользователя число уникальных дней в днях\n",
    "users_day = events_train.groupby('user_id').day.nunique() # Вернет серию\n",
    "users_day = users_day.to_frame().reset_index() # превращаем в дата фрейм\n",
    "users_day.head()"
   ]
  },
  {
   "cell_type": "code",
   "execution_count": null,
   "id": "aef33a24",
   "metadata": {},
   "outputs": [],
   "source": [
    "# Добавим к основному дата фрейму число уникальных дней\n",
    "users_data.head()\n",
    "users_data = users_data.merge(users_day, how = 'outer')\n",
    "# проверяем что мы никого не потеряли\n",
    "users_data.user_id.count()\n",
    "events_train.user_id.nunique()"
   ]
  },
  {
   "cell_type": "code",
   "execution_count": null,
   "id": "3cbe8c51",
   "metadata": {},
   "outputs": [],
   "source": [
    "# Проверим успешно ли закончил пользователь курс\n",
    "# За границу возьмем 170 степов если меньше значит не закончил\n",
    "users_data['passed_corse'] = users_data.passed > 170\n",
    "users_data.head()\n",
    "users_data.groupby('passed_corse').count().user_id # количество user_id прошедших и не прошедших курс\n"
   ]
  },
  {
   "cell_type": "code",
   "execution_count": null,
   "id": "1f32cfaa",
   "metadata": {},
   "outputs": [],
   "source": [
    "# Попробуем предсказать уйдет пользователь или нет за первые несколько дней \n",
    "\n",
    "users_data[users_data.passed_corse].day.median() # Медианное значение дней прохождения курса\n",
    "\n",
    "# Попробуем предсказать уйдет или не уйдет за первые 3 дня\n",
    "# timestamp первого взаимодействия с курсом для каждого пользователя \n",
    "user_min_time = events_train.groupby('user_id',as_index=False)\\\n",
    "            .agg({\"timestamp\":'min'})\\\n",
    "            .rename({'timestamp':'min_timestamp'},axis=1)  \n",
    "user_min_time.head()"
   ]
  },
  {
   "cell_type": "code",
   "execution_count": null,
   "id": "1364bd95",
   "metadata": {},
   "outputs": [],
   "source": [
    "users_data = users_data.merge(user_min_time,how='outer')\n",
    "users_data.head()\n"
   ]
  },
  {
   "cell_type": "code",
   "execution_count": 2,
   "id": "7f474434",
   "metadata": {},
   "outputs": [
    {
     "ename": "NameError",
     "evalue": "name 'events_train' is not defined",
     "output_type": "error",
     "traceback": [
      "\u001b[1;31m---------------------------------------------------------------------------\u001b[0m",
      "\u001b[1;31mNameError\u001b[0m                                 Traceback (most recent call last)",
      "Input \u001b[1;32mIn [2]\u001b[0m, in \u001b[0;36m<cell line: 3>\u001b[1;34m()\u001b[0m\n\u001b[0;32m      1\u001b[0m \u001b[38;5;66;03m# Отбор первых 3 дней для каждого пользователя\u001b[39;00m\n\u001b[1;32m----> 3\u001b[0m events_train[\u001b[38;5;124m'\u001b[39m\u001b[38;5;124muser_time\u001b[39m\u001b[38;5;124m'\u001b[39m] \u001b[38;5;241m=\u001b[39m \u001b[43mevents_train\u001b[49m\u001b[38;5;241m.\u001b[39muser_id\u001b[38;5;241m.\u001b[39mmap(\u001b[38;5;28mstr\u001b[39m) \u001b[38;5;241m+\u001b[39m \u001b[38;5;124m'\u001b[39m\u001b[38;5;124m_\u001b[39m\u001b[38;5;124m'\u001b[39m \u001b[38;5;241m+\u001b[39m  events_train\u001b[38;5;241m.\u001b[39mtimestamp\u001b[38;5;241m.\u001b[39mmap(\u001b[38;5;28mstr\u001b[39m)\n\u001b[0;32m      4\u001b[0m events_train\u001b[38;5;241m.\u001b[39mhead()\n\u001b[0;32m      5\u001b[0m user_learning_time_thresh \u001b[38;5;241m=\u001b[39m user_min_time\u001b[38;5;241m.\u001b[39muser_id\u001b[38;5;241m.\u001b[39mmap(\u001b[38;5;28mstr\u001b[39m) \u001b[38;5;241m+\u001b[39m \u001b[38;5;124m'\u001b[39m\u001b[38;5;124m_\u001b[39m\u001b[38;5;124m'\u001b[39m \u001b[38;5;241m+\u001b[39m (user_min_time\u001b[38;5;241m.\u001b[39mmin_timestamp \u001b[38;5;241m+\u001b[39m time_thresh)\u001b[38;5;241m.\u001b[39mmap(\u001b[38;5;28mstr\u001b[39m)\n",
      "\u001b[1;31mNameError\u001b[0m: name 'events_train' is not defined"
     ]
    }
   ],
   "source": [
    "# Отбор первых 3 дней для каждого пользователя\n",
    "\n",
    "events_train['user_time'] = events_train.user_id.map(str) + '_' +  events_train.timestamp.map(str)\n",
    "events_train.head()\n",
    "user_learning_time_thresh = user_min_time.user_id.map(str) + '_' + (user_min_time.min_timestamp + time_thresh).map(str)\n",
    "user_learning_time_thresh.head()\n",
    "user_min_time['user_learning_time_thresh'] = user_learning_time_thresh\n",
    "user_min_time.head()\n",
    "events_train = events_train.merge(user_min_time[['user_id','user_learning_time_thresh']],how='outer')\n",
    "events_train.head()\n",
    "events_data_train = events_train[events_train.user_time <= events_train.user_learning_time_thresh]\n",
    "events_data_train.head()\n",
    "events_data_train.user_id.nunique()"
   ]
  },
  {
   "cell_type": "code",
   "execution_count": null,
   "id": "eed751d2",
   "metadata": {},
   "outputs": [],
   "source": [
    "# Для данных submissions_train тоже отбираем для каждого пользователя только первые 3 дня на курсе\n",
    "\n",
    "submissions_train['users_time'] = submissions_train.user_id.map(str) + '_' + submissions_train.timestamp.map(str)\n",
    "submissions_train = submissions_train.merge(user_min_time[['user_id', 'user_learning_time_thresh']], how='outer')\n",
    "submissions_data_train = submissions_train[submissions_train.users_time <= submissions_train.user_learning_time_thresh]\n",
    "submissions_data_train.groupby('user_id').day.nunique().max()\n",
    "submissions_data_train.head()\n"
   ]
  },
  {
   "cell_type": "code",
   "execution_count": null,
   "id": "6dd2e4ed",
   "metadata": {},
   "outputs": [],
   "source": [
    "# Применяем машинное обучение чтобы по первым 3 дня пользователей предсказать уйдет с курса или нет\n",
    "\n",
    "# Определяем количесвто дней подряд проведенных на курсе с момента первого взаимодействия пользователей в течении 3 дней\n",
    "X = submissions_data_train.groupby('user_id').day.nunique().to_frame()\\\n",
    "            .reset_index().rename(columns = {'day':'days'})\n",
    "X.head()"
   ]
  },
  {
   "cell_type": "code",
   "execution_count": null,
   "id": "9d4b6214",
   "metadata": {},
   "outputs": [],
   "source": [
    "# Посчитаем сколько степов пытался решить пользователь за первые 3 дня\n",
    "\n",
    "step_tried = submissions_data_train.groupby('user_id').step_id.nunique().to_frame().reset_index()\\\n",
    "            .rename(columns = {'step_id':'steps_tried'})\n",
    "step_tried.head()"
   ]
  },
  {
   "cell_type": "code",
   "execution_count": null,
   "id": "058ec23e",
   "metadata": {},
   "outputs": [],
   "source": [
    "X = X.merge(step_tried,on='user_id',how='outer')\n",
    "X.head()"
   ]
  },
  {
   "cell_type": "code",
   "execution_count": null,
   "id": "3f157e92",
   "metadata": {},
   "outputs": [],
   "source": [
    "# Для каждого пользователя добавим количество пройденных и  непройденных степов за 3 дня\n",
    "user_score = submissions_data_train.pivot_table(index = 'user_id', columns = 'submission_status', values = 'step_id', \n",
    "                                           aggfunc = 'count', fill_value = 0).reset_index()\n",
    "X = X.merge(user_score,on='user_id',how='outer')\n",
    "X.head()"
   ]
  },
  {
   "cell_type": "code",
   "execution_count": null,
   "id": "3c960c84",
   "metadata": {},
   "outputs": [],
   "source": [
    "# Соотношение количества правильных ответов ко всем ответам\n",
    "X['correct_ratio'] = X.correct/(X.correct + X.wrong)\n",
    "X.head()"
   ]
  },
  {
   "cell_type": "code",
   "execution_count": null,
   "id": "0dfa2a74",
   "metadata": {},
   "outputs": [],
   "source": [
    "# Количество просмотренных степов для пользователей за 3 дня\n",
    "X = X.merge(events_data_train.pivot_table(index = 'user_id',\n",
    "                                         columns = 'action',\n",
    "                                         values = 'step_id',\n",
    "                                         aggfunc = 'count',\n",
    "                                         fill_value = 0).reset_index()[['user_id','viewed']],how = 'outer')\n",
    "X = X.fillna(0)\n",
    "X.head()"
   ]
  },
  {
   "cell_type": "code",
   "execution_count": null,
   "id": "5b3f82cd",
   "metadata": {},
   "outputs": [],
   "source": [
    "X = X.merge(users_data[['user_id','passed_corse','is_gone_user']],how='outer')\n",
    "X.head()"
   ]
  },
  {
   "cell_type": "code",
   "execution_count": null,
   "id": "60b9e23a",
   "metadata": {},
   "outputs": [],
   "source": [
    "# Отбираем для Х пользователей которые или прошли курс или ушли из курса но не прошли его\n",
    "\n",
    "X = X[~((X.is_gone_user == False) & (X.passed_corse == False))]\n",
    "X.head()"
   ]
  },
  {
   "cell_type": "code",
   "execution_count": null,
   "id": "631daac0",
   "metadata": {},
   "outputs": [],
   "source": [
    "# Отбираем X и у для обучения\n",
    "y = X.passed_corse.map(int)\n",
    "\n",
    "X = X.drop(['passed_corse','is_gone_user'],axis=1)\n",
    "X.head()"
   ]
  },
  {
   "cell_type": "code",
   "execution_count": null,
   "id": "a96fca39",
   "metadata": {},
   "outputs": [],
   "source": [
    "# Превращаем user_id в индексы дата фрейма\n",
    "\n",
    "X = X.set_index(X.user_id)\n",
    "X.head()\n",
    "X = X.drop(['user_id'],axis=1)\n",
    "X.head()"
   ]
  },
  {
   "cell_type": "code",
   "execution_count": null,
   "id": "7aa398a9",
   "metadata": {},
   "outputs": [],
   "source": [
    "X_train,X_test,y_train,y_test = train_test_split(X,y,train_size=0.75)"
   ]
  },
  {
   "cell_type": "code",
   "execution_count": null,
   "id": "c3aa5c3f",
   "metadata": {},
   "outputs": [],
   "source": [
    "params = {'max_depth':range(1,10),'min_samples_split':range(2,20)}\n",
    "clf = tree.DecisionTreeClassifier(random_state=42)\n",
    "gr_search = GridSearchCV(clf,params,cv=5)\n",
    "gr_search.fit(X_train,y_train)"
   ]
  },
  {
   "cell_type": "code",
   "execution_count": null,
   "id": "64dffd9b",
   "metadata": {},
   "outputs": [],
   "source": [
    "best_clf = gr_search.best_estimator_\n",
    "best_clf.score(X_train,y_train)"
   ]
  },
  {
   "cell_type": "code",
   "execution_count": null,
   "id": "8cf6fdab",
   "metadata": {},
   "outputs": [],
   "source": [
    "best_clf.score(X_test,y_test)"
   ]
  },
  {
   "cell_type": "code",
   "execution_count": null,
   "id": "88c7cd01",
   "metadata": {},
   "outputs": [],
   "source": [
    "y_pred = best_clf.predict(X_test)\n",
    "recall_score(y_test,y_pred)"
   ]
  },
  {
   "cell_type": "code",
   "execution_count": null,
   "id": "ed395b29",
   "metadata": {},
   "outputs": [],
   "source": [
    "pred_y_prob = best_clf.predict_proba(X_test)"
   ]
  },
  {
   "cell_type": "code",
   "execution_count": null,
   "id": "4adbbe9d",
   "metadata": {},
   "outputs": [],
   "source": [
    "fpr, tpr, thresholds = roc_curve(y_test, pred_y_prob[:,1])\n",
    "roc_auc= auc(fpr, tpr)\n",
    "plt.figure()\n",
    "plt.plot(fpr, tpr, color='darkorange',label='ROC curve (area = %0.2f)' % roc_auc)\n",
    "plt.plot([0, 1], [0, 1], color='navy', linestyle='--')\n",
    "plt.xlim([0.0, 1.0])\n",
    "plt.ylim([0.0, 1.05])\n",
    "plt.xlabel('False Positive Rate')\n",
    "plt.ylabel('True Positive Rate')\n",
    "plt.title('Receiver operating characteristic example')\n",
    "plt.legend(loc=\"lower right\")\n",
    "plt.show()"
   ]
  },
  {
   "cell_type": "code",
   "execution_count": null,
   "id": "9c96b78c",
   "metadata": {},
   "outputs": [],
   "source": []
  },
  {
   "cell_type": "code",
   "execution_count": null,
   "id": "54269aa7",
   "metadata": {},
   "outputs": [],
   "source": []
  },
  {
   "cell_type": "code",
   "execution_count": null,
   "id": "0a8f84a0",
   "metadata": {},
   "outputs": [],
   "source": []
  }
 ],
 "metadata": {
  "kernelspec": {
   "display_name": "Python 3 (ipykernel)",
   "language": "python",
   "name": "python3"
  },
  "language_info": {
   "codemirror_mode": {
    "name": "ipython",
    "version": 3
   },
   "file_extension": ".py",
   "mimetype": "text/x-python",
   "name": "python",
   "nbconvert_exporter": "python",
   "pygments_lexer": "ipython3",
   "version": "3.9.7"
  }
 },
 "nbformat": 4,
 "nbformat_minor": 5
}

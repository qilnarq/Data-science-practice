{
 "cells": [
  {
   "cell_type": "code",
   "execution_count": null,
   "id": "61d9ea83",
   "metadata": {},
   "outputs": [],
   "source": [
    "import pandas as pd\n",
    "import numpy as np\n",
    "import seaborn as sns\n",
    "import matplotlib.pyplot as plt\n",
    "from sklearn import tree\n",
    "from sklearn.model_selection import train_test_split\n",
    "from sklearn.model_selection import cross_val_score # Кроссвалидации при обучении\n",
    "from sklearn.model_selection import GridSearchCV # Для подбора лучших параметров для обучения решающего дерева\n",
    "from sklearn.model_selection import RandomizedSearchCV\n",
    "from sklearn.metrics import precision_score, recall_score # Для расчета метрик качества модели\n",
    "from sklearn.metrics import roc_curve, auc # Для графика рок-кривой\n",
    "from sklearn.ensemble import RandomForestClassifier # Для создания рандомног леса\n",
    "from sklearn.datasets import make_classification\n",
    "from sklearn.metrics import confusion_matrix"
   ]
  },
  {
   "cell_type": "code",
   "execution_count": null,
   "id": "074e35f7",
   "metadata": {},
   "outputs": [],
   "source": [
    "Тогда я нашел довольно интересную закономерность прохождения онлайн курсов. Слушатели онлайн курсов очень негативно \n",
    "реагируют на невозможность решить задачу, иными словами, если студент застрял на определенном шаге, то он, с высокой \n",
    "вероятность, вообще бросит курс, чем просто пропустит этот шаг и продолжит обучение. \n",
    "\n",
    "Давайте найдем такой стэп, используя данные о сабмитах. Для каждого пользователя найдите такой шаг, который он не смог \n",
    "решить, и после этого не пытался решать другие шаги. Затем найдите id шага,  который стал финальной точкой практического \n",
    "обучения на курсе для максимального числа пользователей. \n",
    "\n",
    "То есть мы исследуем следующий сценарий: человек решает стэп, не может получить правильный ответ и больше не \n",
    "возвращается к практическим задачам. Что это за шаг такой, который отпугнул максимальное число пользователей?"
   ]
  },
  {
   "cell_type": "code",
   "execution_count": null,
   "id": "a53ad9a2",
   "metadata": {},
   "outputs": [],
   "source": [
    "events_data_train = pd.read_csv('C:\\\\Users\\\\Ильнар\\\\Data science\\\\events_data_test.csv')\n",
    "submissions_data_train = pd.read_csv('C:\\\\Users\\\\Ильнар\\\\Data science\\\\submission_data_test.csv')\n",
    "events_data_train.head()\n",
    "events_data_train.isnull().sum()\n",
    "submissions_data_train.head()"
   ]
  },
  {
   "cell_type": "code",
   "execution_count": null,
   "id": "d76baa7a",
   "metadata": {},
   "outputs": [],
   "source": [
    "# Используя данные с пользователями которые прошли и не прошли курс\n",
    "users_data.head()\n",
    "gone_and_nopass_us = users_data.query('is_gone_user==True & passed_corse==False & started_attempt>0')\n",
    "us_id = gone_and_nopass_us.user_id\n",
    "us_id"
   ]
  },
  {
   "cell_type": "code",
   "execution_count": null,
   "id": "555b31b5",
   "metadata": {},
   "outputs": [],
   "source": [
    "last_step = submissions_train.drop_duplicates(subset=['user_id','step_id','submission_status'])\n",
    "last_time = last_step.query(\"user_id in @us_id\").groupby('user_id',as_index=False)\\\n",
    "            .agg({'timestamp':'max'}).rename(columns = {'timestamp':'max_time'})\n",
    "last_step = last_step.query(\"user_id in @us_id\")\n",
    "last_step = last_step.merge(last_time,how='outer')\n",
    "last_step.query(\"timestamp==max_time & submission_status=='wrong'\")\\\n",
    "        .groupby('step_id',as_index=False).agg({'user_id':'count'}).sort_values('user_id',ascending=False)"
   ]
  },
  {
   "cell_type": "code",
   "execution_count": null,
   "id": "46390370",
   "metadata": {},
   "outputs": [],
   "source": []
  },
  {
   "cell_type": "markdown",
   "id": "7a3970a9",
   "metadata": {},
   "source": [
    "В этих данных, вам доступны только первые дня активности студентов для того, чтобы сделать предсказание. На самом деле, используя эти данные, вы уже можете сделать прогноз. Например, если пользователь за первые два дня набрал 40 баллов, скорее всего он наберет более 40 баллов в дальнейшем. Чтобы подкрепить такие гипотезы, вы можете использовать данные, на которые мы исследовали в первых двух модулях курса, где для всех пользователей представлены все данные об их активности на курсе. Убедитесь, что вы сформировали файл с предсказаними для всех 6184 студентов, для каждого студента должна быть предсказана вероятность, что он наберет более 40 баллов за курс. У вас есть 25 попыток засабмитить решения, в зачет пойдет наилучший вариант.\n",
    "\n",
    "Результатом проверки этого задания будет значение ROC AUC score, именно по этому показателю мы и отберем победителей, успехов!"
   ]
  },
  {
   "cell_type": "code",
   "execution_count": null,
   "id": "9f52ab06",
   "metadata": {},
   "outputs": [],
   "source": [
    "events_data_train = pd.read_csv('C:\\\\Users\\\\Ильнар\\\\Data science\\\\events_data_test.csv')\n",
    "submissions_data_train = pd.read_csv('C:\\\\Users\\\\Ильнар\\\\Data science\\\\submission_data_test.csv')\n",
    "events_data_train.head()\n",
    "events_data_train.isnull().sum()\n",
    "submissions_data_train.head()"
   ]
  },
  {
   "cell_type": "code",
   "execution_count": null,
   "id": "0c31ad7d",
   "metadata": {},
   "outputs": [],
   "source": [
    "us_min_tim_ev = events_train.groupby('user_id',as_index=False).agg({'timestamp':'min'})\\\n",
    "                            .rename(columns = {'timestamp':'min_timestamp'})\n",
    "us_min_tim_ev.head()\n",
    "us_min_tim_sub = submissions_train.groupby('user_id',as_index=False).agg({'timestamp':'min'})\\\n",
    "                            .rename(columns = {'timestamp':'min_timestamp'})\n",
    "us_min_tim_ev.user_id.nunique()"
   ]
  },
  {
   "cell_type": "code",
   "execution_count": null,
   "id": "8ba54eba",
   "metadata": {},
   "outputs": [],
   "source": [
    "time_two = 2*24*60*60\n",
    "events_train['user_time'] = events_train.user_id.map(str) + '_' +  events_train.timestamp.map(str)\n",
    "us_min_tim_ev['time_thresh'] = us_min_tim_ev.user_id.map(str) + '_' + (us_min_tim_ev.min_timestamp + time_two).map(str)\n",
    "us_min_tim_ev.head()"
   ]
  },
  {
   "cell_type": "code",
   "execution_count": null,
   "id": "103ff866",
   "metadata": {},
   "outputs": [],
   "source": [
    "events_train = events_train.merge(us_min_tim_ev[['user_id','time_thresh']],how='outer')\n",
    "events_train = events_train[events_train.user_time <= events_train.time_thresh]"
   ]
  },
  {
   "cell_type": "code",
   "execution_count": null,
   "id": "6bed72b5",
   "metadata": {},
   "outputs": [],
   "source": [
    "events_train.groupby('user_id').day.nunique().max()"
   ]
  },
  {
   "cell_type": "code",
   "execution_count": null,
   "id": "95789b40",
   "metadata": {},
   "outputs": [],
   "source": [
    "submissions_train['user_time'] = submissions_train.user_id.map(str) + '_' +  submissions_train.timestamp.map(str)\n",
    "us_min_tim_sub['time_thresh'] = us_min_tim_sub.user_id.map(str) + '_' + (us_min_tim_sub.min_timestamp + time_two).map(str)\n",
    "us_min_tim_sub.head()"
   ]
  },
  {
   "cell_type": "code",
   "execution_count": null,
   "id": "651897c6",
   "metadata": {},
   "outputs": [],
   "source": [
    "submissions_train = submissions_train.merge(us_min_tim_sub[['user_id','time_thresh']], how = 'outer')\n",
    "submissions_train = submissions_train[submissions_train.user_time <= submissions_train.time_thresh]"
   ]
  },
  {
   "cell_type": "code",
   "execution_count": null,
   "id": "25a0b24e",
   "metadata": {},
   "outputs": [],
   "source": [
    "submissions_train.groupby('user_id').day.nunique().max()"
   ]
  },
  {
   "cell_type": "code",
   "execution_count": null,
   "id": "73ae5a2c",
   "metadata": {},
   "outputs": [],
   "source": [
    "users_data['full_score'] = users_data.correct >= 40\n",
    "users_data.user_id.nunique()"
   ]
  },
  {
   "cell_type": "code",
   "execution_count": null,
   "id": "24300750",
   "metadata": {},
   "outputs": [],
   "source": [
    "ev_two_d = events_train.pivot_table(index = 'user_id',\n",
    "                                   columns = 'action',\n",
    "                                   values = 'step_id',\n",
    "                                   aggfunc = 'count',\n",
    "                                   fill_value = 0).reset_index()\n",
    "ev_two_d.head()"
   ]
  },
  {
   "cell_type": "code",
   "execution_count": null,
   "id": "f46e7e78",
   "metadata": {},
   "outputs": [],
   "source": [
    "sub_two_d = submissions_train.pivot_table(index = 'user_id',\n",
    "                                   columns = 'submission_status',\n",
    "                                   values = 'step_id',\n",
    "                                   aggfunc = 'count',\n",
    "                                   fill_value = 0).reset_index()\n",
    "sub_two_d.head()"
   ]
  },
  {
   "cell_type": "code",
   "execution_count": null,
   "id": "feb664ea",
   "metadata": {},
   "outputs": [],
   "source": [
    "df_for_tr = ev_two_d.merge(sub_two_d, how = 'outer').merge(users_data[['user_id','full_score']],how = 'outer')\n",
    "df_for_tr = df_for_tr.fillna(0)\n",
    "df_for_tr.head()"
   ]
  },
  {
   "cell_type": "code",
   "execution_count": null,
   "id": "0acbb496",
   "metadata": {},
   "outputs": [],
   "source": [
    "X_train_ml = df_for_tr.drop(['user_id','full_score'],axis=1)\n",
    "y_train_ml = df_for_tr.full_score"
   ]
  },
  {
   "cell_type": "code",
   "execution_count": null,
   "id": "5f4ecf81",
   "metadata": {},
   "outputs": [],
   "source": [
    "us_clf = RandomForestClassifier(random_state=0)\n",
    "params = {'max_depth':range(1,20), 'n_estimators':range(10,60),\n",
    "         'min_samples_split':range(2,10),'min_samples_leaf':range(1,20)}\n",
    "grid_search_us = RandomizedSearchCV(us_clf,params,cv=5)"
   ]
  },
  {
   "cell_type": "code",
   "execution_count": null,
   "id": "ee3a47b5",
   "metadata": {},
   "outputs": [],
   "source": [
    "grid_search_us.fit(X_train_ml,y_train_ml)"
   ]
  },
  {
   "cell_type": "code",
   "execution_count": null,
   "id": "6f572707",
   "metadata": {},
   "outputs": [],
   "source": [
    "best_clf = grid_search_us.best_estimator_"
   ]
  },
  {
   "cell_type": "code",
   "execution_count": null,
   "id": "9621c298",
   "metadata": {},
   "outputs": [],
   "source": [
    "feature_importances = best_clf.feature_importances_\n",
    "feature_importances_df = pd.DataFrame({'features':list(X_train_ml),\n",
    "                                       'feature_importances':feature_importances,})\n",
    "feature_importances_df.sort_values('feature_importances',ascending=False)"
   ]
  },
  {
   "cell_type": "code",
   "execution_count": null,
   "id": "23cab8bf",
   "metadata": {},
   "outputs": [],
   "source": [
    "submissions_data_piv = submissions_data_train.pivot_table(index = 'user_id',\n",
    "                                   columns = 'submission_status',\n",
    "                                   values = 'step_id',\n",
    "                                   aggfunc = 'count',\n",
    "                                   fill_value = 0).reset_index()\n",
    "events_data_piv = events_data_train.pivot_table(index = 'user_id',\n",
    "                                   columns = 'action',\n",
    "                                   values = 'step_id',\n",
    "                                   aggfunc = 'count',\n",
    "                                   fill_value = 0).reset_index()\n",
    "\n",
    "X_test_ml = events_data_piv.merge(submissions_data_piv, how = 'outer')\n",
    "X_test_ml = X_test_ml.fillna(0)\n",
    "#X_test_ml = X_test_ml.set_index('user_id')\n",
    "X_test_ml.head()"
   ]
  },
  {
   "cell_type": "code",
   "execution_count": null,
   "id": "687f6e7d",
   "metadata": {},
   "outputs": [],
   "source": [
    "X_test_ml1 = X_test_ml.drop(['user_id'],axis=1)\n",
    "X_test_ml1.head()"
   ]
  },
  {
   "cell_type": "code",
   "execution_count": null,
   "id": "8061f312",
   "metadata": {},
   "outputs": [],
   "source": [
    "predict = pd.DataFrame(best_clf.predict_proba(X_test_ml1)).iloc[:,1]\n",
    "#predict = pd.DataFrame(predict).rename(columns = {1:'is_gone'})\n",
    "predict.head()"
   ]
  },
  {
   "cell_type": "code",
   "execution_count": null,
   "id": "cffb64bb",
   "metadata": {},
   "outputs": [],
   "source": [
    "examp = X_test_ml[['user_id']]\n",
    "examp['is_gone'] = predict\n",
    "examp.head()"
   ]
  },
  {
   "cell_type": "code",
   "execution_count": null,
   "id": "100afbcb",
   "metadata": {},
   "outputs": [],
   "source": [
    "examp.to_csv('Ml_pred.csv')"
   ]
  },
  {
   "cell_type": "code",
   "execution_count": null,
   "id": "cba5bb0b",
   "metadata": {},
   "outputs": [],
   "source": [
    "sub_exampl = pd.read_csv('C:\\\\Users\\\\Ильнар\\\\Data science\\\\submission_example.csv')\n",
    "sub_exampl.shape"
   ]
  },
  {
   "cell_type": "code",
   "execution_count": null,
   "id": "0235624c",
   "metadata": {},
   "outputs": [],
   "source": [
    "x = pd.read_csv('Ml_pred.csv',index_col=0)\n",
    "x"
   ]
  }
 ],
 "metadata": {
  "kernelspec": {
   "display_name": "Python 3 (ipykernel)",
   "language": "python",
   "name": "python3"
  },
  "language_info": {
   "codemirror_mode": {
    "name": "ipython",
    "version": 3
   },
   "file_extension": ".py",
   "mimetype": "text/x-python",
   "name": "python",
   "nbconvert_exporter": "python",
   "pygments_lexer": "ipython3",
   "version": "3.9.7"
  }
 },
 "nbformat": 4,
 "nbformat_minor": 5
}

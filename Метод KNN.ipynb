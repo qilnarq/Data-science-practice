{
 "cells": [
  {
   "cell_type": "code",
   "execution_count": 1,
   "id": "79bb341b",
   "metadata": {},
   "outputs": [],
   "source": [
    "# для начала импортируем модули, которые понадобятся нам для написание классификатора \n",
    "# numpy - библиотека для работы с массивами(матрицами в том числе), помогает делать различные операции над ними\n",
    "import numpy as np\n",
    "# matplotlib, seaborn понадобятся для рисования графиков, отображения изображений\n",
    "from matplotlib import pyplot as plt\n",
    "import seaborn as sns\n",
    "\n",
    "# с помощью этой команды графики будут отображаться в текущем окне в ноутбуке под ячейкой, где написан код для отображения графика \n",
    "%matplotlib inline\n",
    "\n",
    "# Зафиксируем случайность, чтобы каждый раз получалось одно и тоже\n",
    "np.random.seed(seed=42)"
   ]
  },
  {
   "cell_type": "markdown",
   "id": "2509e3a6",
   "metadata": {},
   "source": [
    "Сгененируем точки для трех классов, у каждого класса 50 точек, каждая из которых имеет 2 координаты.\n",
    "\n",
    "Будем для этого использовать np.random.normal и добавим еще одну\n",
    "\n",
    "Добавим еще точку point, позже определим ее класс\n",
    "\n",
    "Первый класс имеет синий цвет на графике, второй - оранжевый, третий - зелёный."
   ]
  },
  {
   "cell_type": "code",
   "execution_count": 44,
   "id": "2d1f6db9",
   "metadata": {},
   "outputs": [
    {
     "data": {
      "text/plain": [
       "<matplotlib.collections.PathCollection at 0x237bf45efa0>"
      ]
     },
     "execution_count": 44,
     "metadata": {},
     "output_type": "execute_result"
    },
    {
     "data": {
      "image/png": "[encoded data removed]",
      "text/plain": [
       "<Figure size 432x288 with 1 Axes>"
      ]
     },
     "metadata": {
      "needs_background": "light"
     },
     "output_type": "display_data"
    }
   ],
   "source": [
    "p1 = np.random.normal(loc=0, scale=1, size=(50,2))\n",
    "p2 = np.random.normal(loc=5, scale=2, size=(50,2))\n",
    "p3 = np.random.normal(loc=10, scale=0.8, size=(50,2)) - np.array([5, -5])\n",
    "\n",
    "\n",
    "X = np.concatenate((p1, p2, p3))\n",
    "y = np.array([1]*50 + [2]*50 + [3]*50)\n",
    "\n",
    "point = [5,15]\n",
    "\n",
    "plt.scatter(p1[:,0], p1[:, 1], color='blue')\n",
    "plt.scatter(p2[:,0], p2[:, 1], color='orange')\n",
    "plt.scatter(p3[:,0], p3[:, 1], color='green')\n",
    "plt.scatter(point[0], point[1], s = 100, color='red')"
   ]
  },
  {
   "cell_type": "markdown",
   "id": "4cbc1200",
   "metadata": {},
   "source": [
    "Реализуем kNN самостоятельно. Нам будет достаточно написать функцию вычисления результирующего класса."
   ]
  },
  {
   "cell_type": "code",
   "execution_count": 2,
   "id": "f2ab6d0e",
   "metadata": {},
   "outputs": [],
   "source": [
    "def euclidian_metric(a, b):  # реализуем Евклидову метрику через норму\n",
    "     #############\n",
    "     #  ВАШ КОД  #\n",
    "     #############\n",
    "        \n",
    "    return np.sqrt(np.sum(np.power(a-b,2),1))"
   ]
  },
  {
   "cell_type": "code",
   "execution_count": 4,
   "id": "5ce0e8f0",
   "metadata": {},
   "outputs": [
    {
     "name": "stdout",
     "output_type": "stream",
     "text": [
      "ошибок нет\n"
     ]
    }
   ],
   "source": [
    "# запустим эту ячейку, чтобы проверить, всё ли верно реализовано на текущем этапе\n",
    "# если возникает ошибка в assert, то при реализации функций была допущена ошибка\n",
    "# если появляется текст из print - на данном этапе ошибок нет\n",
    "a = np.zeros((1,4))\n",
    "b = np.ones((1,4))\n",
    "\n",
    "assert euclidian_metric(a,b)[0] == 2\n",
    "print('ошибок нет')"
   ]
  },
  {
   "cell_type": "code",
   "execution_count": 5,
   "id": "b8b9506e",
   "metadata": {},
   "outputs": [
    {
     "name": "stdout",
     "output_type": "stream",
     "text": [
      "Сумма при axis = 0: [3 6 9]\n",
      "Сумма при axis = 1: [6 6 6]\n"
     ]
    }
   ],
   "source": [
    "# Пример, показывающий разницу между axis\n",
    "array = [[1,2,3],[1,2,3],[1,2,3]]\n",
    "print('Сумма при axis = 0: {0}'.format(np.sum(array, axis = 0)))\n",
    "print('Сумма при axis = 1: {0}'.format(np.sum(array, axis = 1)))"
   ]
  },
  {
   "cell_type": "markdown",
   "id": "599c9c5f",
   "metadata": {},
   "source": [
    "Далее реализуем функции, необходимые нам для вычисления класса по методу ближайших соседей.\n",
    "Напишите функцию, которая по уже рассчитанным расстояниям от точек y до нашей точки (distances) находит и возвращает k ближайших соседей и соответствующие расстояния до них."
   ]
  },
  {
   "cell_type": "code",
   "execution_count": 6,
   "id": "7480a68c",
   "metadata": {},
   "outputs": [],
   "source": [
    "def find_neighbours(k, y, distances):\n",
    "    #############\n",
    "    #  ВАШ КОД  #\n",
    "    #############\n",
    "    distance = np.sort(distances)\n",
    "    neighbours = y[np.argsort(distances)][:k]\n",
    "    neighbours_distances = distance[:k]\n",
    "    return neighbours, neighbours_distances\n"
   ]
  },
  {
   "cell_type": "code",
   "execution_count": 7,
   "id": "2e1e39a0",
   "metadata": {},
   "outputs": [
    {
     "name": "stdout",
     "output_type": "stream",
     "text": [
      "Если вы видите этот текст, но не видите ошибку, то всё работает корректно!\n"
     ]
    }
   ],
   "source": [
    "Y = np.arange(10)\n",
    "dist = np.linspace(1, 10, 10)\n",
    "neighbours = find_neighbours(3, Y, dist)  \n",
    "real_neighbours = ([0, 1, 2], [1., 2., 3.])\n",
    "for i in range(len(neighbours)):\n",
    "    for j in range(len(neighbours[i])):\n",
    "        assert neighbours[i][j] == real_neighbours[i][j]\n",
    "print('Если вы видите этот текст, но не видите ошибку, то всё работает корректно!')"
   ]
  },
  {
   "cell_type": "markdown",
   "id": "4b7a6773",
   "metadata": {},
   "source": [
    "Реализуйте функцию, выделяющую преобладающий класс среди соседних объектов. Если есть конкурирующие классы, то нужно вернуть их все.\n",
    "\n",
    "Конкурирующими считаются те классы, для которых количество принадлежащих им объектов равно между собой и при этом наибольшее среди всех классов, представленных в подвыборке."
   ]
  },
  {
   "cell_type": "code",
   "execution_count": 8,
   "id": "ac3f61e4",
   "metadata": {},
   "outputs": [],
   "source": [
    "def get_closest_classes(neighbours):\n",
    "    #############\n",
    "    #  ВАШ КОД  #\n",
    "    #############\n",
    "    clas_ind,max_val = np.unique(neighbours,return_counts=True)[0],np.unique(neighbours,return_counts=True)[1]\n",
    "    best_classes = clas_ind[max_val==max(max_val)]\n",
    "    return best_classes"
   ]
  },
  {
   "cell_type": "code",
   "execution_count": 9,
   "id": "1e5c901c",
   "metadata": {},
   "outputs": [
    {
     "name": "stdout",
     "output_type": "stream",
     "text": [
      "get_closest_classes работает верно\n"
     ]
    }
   ],
   "source": [
    "# sanity check\n",
    "assert get_closest_classes(np.asarray([1,2,3,2,2])) == [2]\n",
    "closest = get_closest_classes(np.asarray([1,2,3,2,3]))\n",
    "assert closest[0] == 2 and closest[1] == 3\n",
    "print('get_closest_classes работает верно')"
   ]
  },
  {
   "cell_type": "markdown",
   "id": "b3907180",
   "metadata": {},
   "source": [
    "Напишите функцию, которая выбирает наиболее подходящий класс, при условии, что есть несколько конкурирующих классов.\n",
    "\n",
    "Для этого будет необходимо посчитать среднее расстояние до объектов каждого класса и выбрать класс с наименьшим таким расстоянием."
   ]
  },
  {
   "cell_type": "code",
   "execution_count": 10,
   "id": "dc657476",
   "metadata": {},
   "outputs": [],
   "source": [
    "def choose_best_class(best_classes, neighbours, neighbouring_distances):\n",
    "    min_mean_dist = np.inf\n",
    "    best_class = None\n",
    "    \n",
    "    for i in range(1,max(neighbours)+1):\n",
    "        mean_dist = np.mean(neighbouring_distances[neighbours==i])\n",
    "        if min_mean_dist>mean_dist:\n",
    "            min_mean_dist = mean_dist\n",
    "            best_class = i\n",
    "    #############\n",
    "    #  ВАШ КОД  #\n",
    "    #############\n",
    "    \n",
    "    return best_class"
   ]
  },
  {
   "cell_type": "code",
   "execution_count": 11,
   "id": "30288bde",
   "metadata": {},
   "outputs": [
    {
     "name": "stdout",
     "output_type": "stream",
     "text": [
      "Проверка пройдена\n"
     ]
    }
   ],
   "source": [
    " #sanity check\n",
    "assert choose_best_class([1,2], np.array([1, 2, 1, 3, 2]), np.asarray([0.5, 1, 1, 8, 0.6])) == 1\n",
    "print('Проверка пройдена')"
   ]
  },
  {
   "cell_type": "markdown",
   "id": "628e5f68",
   "metadata": {},
   "source": [
    "Далее нужно реализовать функцию, делающую предсказание для одной точки, используя реализованные ранее функции."
   ]
  },
  {
   "cell_type": "code",
   "execution_count": 12,
   "id": "51cc3f1d",
   "metadata": {},
   "outputs": [],
   "source": [
    "# эта функция будет считать расстояния каждой точки элемента выборки x_pred до всех точек \n",
    "# в исходном датасете X и на основе расстояний вычислять принадлежность к классу\n",
    "\n",
    "def nearest_neighbours_classify(x, y, k, x_pred):\n",
    "    res = np.zeros(x_pred.shape[0], dtype=y.dtype)\n",
    "\n",
    "    for i in range(x_pred.shape[0]):\n",
    "        distances = euclidian_metric(x, x_pred[i])  # считаем расстояния до классов\n",
    "\n",
    "        neighbours, neighbouring_distances = find_neighbours(k, y, distances)  # находим ровно k соседей этой точки\n",
    "            \n",
    "        best_classes = get_closest_classes(neighbours)  # обнаруживаем классы, которые имеются среди соседей\n",
    "\n",
    "        res[i] = choose_best_class(best_classes, neighbours, neighbouring_distances)  # выбираем наиболее релевантный класс по среднему расстоянию до него среди соседей\n",
    "    return res"
   ]
  },
  {
   "cell_type": "code",
   "execution_count": 45,
   "id": "2532b581",
   "metadata": {},
   "outputs": [
    {
     "name": "stdout",
     "output_type": "stream",
     "text": [
      "1.0\n"
     ]
    }
   ],
   "source": [
    "from sklearn.model_selection import train_test_split\n",
    "from sklearn.metrics import accuracy_score\n",
    "\n",
    "# train_test_split разбивает X и y на выборки при этом размер тестовой выборки устанавливается через test_size  \n",
    "X_train, X_test, y_train, y_test = train_test_split(X, y,random_state=42, test_size=0.2)\n",
    "\n",
    "# выберем число соседей =  5\n",
    "# для данных из тестовой выборки предскажем, к какому классу относятся точки\n",
    "y_pred = nearest_neighbours_classify(X_train, y_train, 5, X_test)\n",
    "\n",
    "#а теперь сравним предсказанное значение с реальным и выведем значение, показывающее процент верно классифицированных\n",
    "#(значение будет от 0 до 1 - от 0 до 100 процентов соответственно)\n",
    "print(accuracy_score(y_test, y_pred))"
   ]
  },
  {
   "cell_type": "code",
   "execution_count": 46,
   "id": "016ee884",
   "metadata": {},
   "outputs": [
    {
     "name": "stderr",
     "output_type": "stream",
     "text": [
      "C:\\python\\__pycache__\\envs\\dsfs\\lib\\site-packages\\numpy\\core\\fromnumeric.py:3440: RuntimeWarning: Mean of empty slice.\n",
      "  return _methods._mean(a, axis=axis, dtype=dtype,\n",
      "C:\\python\\__pycache__\\envs\\dsfs\\lib\\site-packages\\numpy\\core\\_methods.py:189: RuntimeWarning: invalid value encountered in double_scalars\n",
      "  ret = ret.dtype.type(ret / rcount)\n"
     ]
    },
    {
     "data": {
      "text/plain": [
       "2"
      ]
     },
     "execution_count": 46,
     "metadata": {},
     "output_type": "execute_result"
    }
   ],
   "source": [
    "point = np.array(point) # изначально точка добавлялась на график как список, но мы работает с numpy массивами\n",
    "nearest_neighbours_classify(X_train, y_train, 5, point)[0]"
   ]
  },
  {
   "cell_type": "markdown",
   "id": "503b9e47",
   "metadata": {},
   "source": [
    "Посмотрим, как работает KNN на рукописных цифрах, будем определять цифру по картинке 8х8\n",
    "\n",
    "В этом случае используются уже не два значения, как это было для точки, а 64 (см. размер картинки). Каждое отвечает за значение цвета в пикселе, его цвет может быть от белого до черного. У одинаковых цифр будут близкие значения в каждой координате массива 8х8"
   ]
  },
  {
   "cell_type": "code",
   "execution_count": 48,
   "id": "30ffaeef",
   "metadata": {},
   "outputs": [
    {
     "name": "stdout",
     "output_type": "stream",
     "text": [
      "Экземпляров: 1797\n",
      "Размер изображения: 8.0x8.0\n"
     ]
    }
   ],
   "source": [
    "from sklearn import datasets\n",
    "\n",
    "# загружаем датасет с цифрами\n",
    "# В Х загрузим картинки с цифрами, по Х предсказываем класс\n",
    "# В y хранится значение целевого признака, что мы должны предсказать в итоге. \n",
    "X, y = datasets.load_digits(return_X_y=True)\n",
    "\n",
    "print(\"Экземпляров: {}\\nРазмер изображения: {}x{}\".format(X.shape[0], np.sqrt(X.shape[1]), np.sqrt(X.shape[1])))"
   ]
  },
  {
   "cell_type": "code",
   "execution_count": 49,
   "id": "e1102b73",
   "metadata": {},
   "outputs": [
    {
     "data": {
      "image/png": "[encoded data removed]",
      "text/plain": [
       "<Figure size 1152x432 with 10 Axes>"
      ]
     },
     "metadata": {
      "needs_background": "light"
     },
     "output_type": "display_data"
    }
   ],
   "source": [
    "# выведем пример содержимого датасета с помощью кода ниже(10 цифр)\n",
    "# Для начала зафиксируем размер итоговой фигуры(на нее будем добавлять изображения с цифрами)\n",
    "plt.figure(figsize=(16, 6))\n",
    "width = int(np.sqrt(X.shape[1]))\n",
    "# Затем в цикле будем добавлять изображения на фигуру, используя функцию subplot, \n",
    "# она нужна для добавления независимых графиков\\изображений на одной ячейке\n",
    "# первое значение в subplot обозначает число строк, второе - число столбцов,\n",
    "# то есть так можно добавить на график 5 в каждую строку, всего 2 строки\n",
    "# Третье значение отвечает за текущую позицию(нумерация с 1), например, если позиция 6, то картинка добавится в первый столбец второго ряда(для текущих значений) \n",
    "for i in range(10):\n",
    "    plt.subplot(2, 5, i + 1)\n",
    "    plt.imshow(X[i,:].reshape([width,width]), cmap='gray')"
   ]
  },
  {
   "cell_type": "code",
   "execution_count": 53,
   "id": "0ad3adeb",
   "metadata": {},
   "outputs": [
    {
     "ename": "TypeError",
     "evalue": "int() argument must be a string, a bytes-like object or a number, not 'NoneType'",
     "output_type": "error",
     "traceback": [
      "\u001b[1;31m---------------------------------------------------------------------------\u001b[0m",
      "\u001b[1;31mTypeError\u001b[0m                                 Traceback (most recent call last)",
      "Input \u001b[1;32mIn [53]\u001b[0m, in \u001b[0;36m<cell line: 3>\u001b[1;34m()\u001b[0m\n\u001b[0;32m      1\u001b[0m X_train, X_test, y_train, y_test \u001b[38;5;241m=\u001b[39m train_test_split(X, y, random_state\u001b[38;5;241m=\u001b[39m\u001b[38;5;241m42\u001b[39m, test_size\u001b[38;5;241m=\u001b[39m\u001b[38;5;241m0.2\u001b[39m)\n\u001b[1;32m----> 3\u001b[0m y_pred \u001b[38;5;241m=\u001b[39m \u001b[43mnearest_neighbours_classify\u001b[49m\u001b[43m(\u001b[49m\u001b[43mX_train\u001b[49m\u001b[43m,\u001b[49m\u001b[43m \u001b[49m\u001b[43my_train\u001b[49m\u001b[43m,\u001b[49m\u001b[43m \u001b[49m\u001b[38;5;241;43m5\u001b[39;49m\u001b[43m,\u001b[49m\u001b[43m \u001b[49m\u001b[43mX_test\u001b[49m\u001b[43m)\u001b[49m\n\u001b[0;32m      5\u001b[0m \u001b[38;5;28mprint\u001b[39m(accuracy_score(y_test, y_pred))\n",
      "Input \u001b[1;32mIn [12]\u001b[0m, in \u001b[0;36mnearest_neighbours_classify\u001b[1;34m(x, y, k, x_pred)\u001b[0m\n\u001b[0;32m     10\u001b[0m     neighbours, neighbouring_distances \u001b[38;5;241m=\u001b[39m find_neighbours(k, y, distances)  \u001b[38;5;66;03m# находим ровно k соседей этой точки\u001b[39;00m\n\u001b[0;32m     12\u001b[0m     best_classes \u001b[38;5;241m=\u001b[39m get_closest_classes(neighbours)  \u001b[38;5;66;03m# обнаруживаем классы, которые имеются среди соседей\u001b[39;00m\n\u001b[1;32m---> 14\u001b[0m     res[i] \u001b[38;5;241m=\u001b[39m choose_best_class(best_classes, neighbours, neighbouring_distances)  \u001b[38;5;66;03m# выбираем наиболее релевантный класс по среднему расстоянию до него среди соседей\u001b[39;00m\n\u001b[0;32m     15\u001b[0m \u001b[38;5;28;01mreturn\u001b[39;00m res\n",
      "\u001b[1;31mTypeError\u001b[0m: int() argument must be a string, a bytes-like object or a number, not 'NoneType'"
     ]
    }
   ],
   "source": [
    "X_train, X_test, y_train, y_test = train_test_split(X, y, random_state=42, test_size=0.2)\n",
    "\n",
    "y_pred = nearest_neighbours_classify(X_train, y_train, 5, X_test)\n",
    "\n",
    "print(accuracy_score(y_test, y_pred))"
   ]
  }
 ],
 "metadata": {
  "kernelspec": {
   "display_name": "Python 3 (ipykernel)",
   "language": "python",
   "name": "python3"
  },
  "language_info": {
   "codemirror_mode": {
    "name": "ipython",
    "version": 3
   },
   "file_extension": ".py",
   "mimetype": "text/x-python",
   "name": "python",
   "nbconvert_exporter": "python",
   "pygments_lexer": "ipython3",
   "version": "3.9.7"
  }
 },
 "nbformat": 4,
 "nbformat_minor": 5
}

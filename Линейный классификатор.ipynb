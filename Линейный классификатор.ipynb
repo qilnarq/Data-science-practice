{
 "cells": [
  {
   "cell_type": "code",
   "execution_count": 1,
   "id": "ad86cf89",
   "metadata": {},
   "outputs": [
    {
     "data": {
      "image/png": "[encoded data removed]",
      "text/plain": [
       "<Figure size 432x288 with 1 Axes>"
      ]
     },
     "metadata": {
      "needs_background": "light"
     },
     "output_type": "display_data"
    }
   ],
   "source": [
    "# Реализуем простой пример линейной регрессии, с одной зависимой переменной У, и одной независимой переменной х.\n",
    "# Создадим данные. Зависимость будет такой: y = 2*x + 10\n",
    "import numpy as np\n",
    "import matplotlib.pyplot as plt\n",
    "%matplotlib inline\n",
    "\n",
    "x = np.array([[x] for x in np.arange(0.0, 6.0, 0.5)])\n",
    "y = np.array([[2*x[0] + 10] for x in x.tolist()])\n",
    "\n",
    "plt.scatter(x, y)\n",
    "plt.show()"
   ]
  },
  {
   "cell_type": "code",
   "execution_count": 77,
   "id": "7d44b508",
   "metadata": {},
   "outputs": [
    {
     "data": {
      "image/png": "[encoded data removed]",
      "text/plain": [
       "<Figure size 432x288 with 1 Axes>"
      ]
     },
     "metadata": {
      "needs_background": "light"
     },
     "output_type": "display_data"
    }
   ],
   "source": [
    "# Сейчас у нас строго линейная зависимость. Добавим немного шума, используя метод np.random.rand\n",
    "\n",
    "np.random.seed(42)\n",
    "\n",
    "x = np.array([[x] for x in np.arange(0.0, 6.0, 0.5)])\n",
    "y = np.array([[2*x[0] + 10 + np.random.rand()*3] for x in x.tolist()])\n",
    "plt.scatter(x, y)\n",
    "plt.show()"
   ]
  },
  {
   "cell_type": "code",
   "execution_count": 3,
   "id": "2ff01c7d",
   "metadata": {},
   "outputs": [
    {
     "name": "stdout",
     "output_type": "stream",
     "text": [
      "[[0. ]\n",
      " [0.5]\n",
      " [1. ]\n",
      " [1.5]\n",
      " [2. ]\n",
      " [2.5]\n",
      " [3. ]\n",
      " [3.5]\n",
      " [4. ]\n",
      " [4.5]\n",
      " [5. ]\n",
      " [5.5]]\n",
      "[[11.12362036]\n",
      " [13.85214292]\n",
      " [14.19598183]\n",
      " [14.79597545]\n",
      " [14.46805592]\n",
      " [15.46798356]\n",
      " [16.17425084]\n",
      " [19.59852844]\n",
      " [19.80334504]\n",
      " [21.12421773]\n",
      " [20.06175348]\n",
      " [23.90972956]]\n"
     ]
    }
   ],
   "source": [
    "# Посмотрим на сами данные\n",
    "print(x)\n",
    "print(y)"
   ]
  },
  {
   "cell_type": "code",
   "execution_count": 89,
   "id": "53e4daa3",
   "metadata": {},
   "outputs": [
    {
     "data": {
      "text/plain": [
       "[<matplotlib.lines.Line2D at 0x157ae3b3f40>]"
      ]
     },
     "execution_count": 89,
     "metadata": {},
     "output_type": "execute_result"
    },
    {
     "data": {
      "image/png": "[encoded data removed]",
      "text/plain": [
       "<Figure size 432x288 with 1 Axes>"
      ]
     },
     "metadata": {
      "needs_background": "light"
     },
     "output_type": "display_data"
    }
   ],
   "source": [
    "# Объявим параметры: веса и шаг градиентного спуска\n",
    "\n",
    "w0 = np.random.rand()\n",
    "w1 = np.random.rand()\n",
    "step = 0.008\n",
    "\n",
    "# Как видно, случайно инициализированные веса не очень хорошо приблизили линейную зависимость.\n",
    "# Точнее вообще никак не приблизили\n",
    "plt.scatter(x, y)\n",
    "plt.plot(x, x*w1 + w0, c='red')"
   ]
  },
  {
   "cell_type": "code",
   "execution_count": 118,
   "id": "c92a6717",
   "metadata": {},
   "outputs": [
    {
     "data": {
      "text/plain": [
       "(3.9111429313689206, 4.406649763428221)"
      ]
     },
     "execution_count": 118,
     "metadata": {},
     "output_type": "execute_result"
    },
    {
     "data": {
      "image/png": "[encoded data removed]",
      "text/plain": [
       "<Figure size 432x288 with 1 Axes>"
      ]
     },
     "metadata": {
      "needs_background": "light"
     },
     "output_type": "display_data"
    }
   ],
   "source": [
    "# Реализуем само обучение\n",
    "# Число шагов для обучения установим в 30\n",
    "\n",
    "for i in range(30):\n",
    "    \n",
    "    # Предсказание\n",
    "    pred = x*w1 + w0\n",
    "    \n",
    "    # MSE-loss\n",
    "    loss = np.sum((y - pred)**2)/x.shape[0]\n",
    "    \n",
    "    # шаг для каждого из весов\n",
    "    w1 = w1 - step*np.sum((pred - y) * x) * 2 / x.shape[0]\n",
    "    w0 = w0 - step*np.sum(pred - y) * 2 / x.shape[0]\n",
    "    \n",
    "    # Критерий остановки обучения:\n",
    "    # разница между значениями MSE меньше, чем на 0.01\n",
    "    # Вычтем из старого значения лосс-функции новое, полученное уже после обновления весов. \n",
    "    if np.abs(loss - np.sum((x*w1 + w0 - y)**2) / x.shape[0]) < 0.01:\n",
    "        print(loss)\n",
    "        break\n",
    "        \n",
    "\n",
    "# Теперь красная линия приближает данные лучше.        \n",
    "plt.scatter(x, y)\n",
    "plt.plot(x, x*w1 + w0, c='red')\n",
    "\n",
    "w1, w0"
   ]
  },
  {
   "cell_type": "markdown",
   "id": "3bbc3210",
   "metadata": {},
   "source": [
    "Задание\n",
    "Реализовать модели линейной регрессии в виде класса, способного работать как с одномерным набором признаков(как в примере выше), так и с многомерным (когда у нас есть x_1, x_2 и тд).\n",
    "Веса желательно задать в виде вектора, X преобразовать, добавив в начало единицу (см. теорию).\n",
    "Используйте возможности библиотеки numpy (например, при использовании матриц, пользуйтесь np.dot, np.transpose)."
   ]
  },
  {
   "cell_type": "code",
   "execution_count": 88,
   "id": "175114e9",
   "metadata": {},
   "outputs": [],
   "source": [
    "class linReg:\n",
    "    def __init__(self, lr = 0.0001, iters = 5000):\n",
    "        self.lr = lr\n",
    "        self.iters = iters\n",
    "\n",
    "    def fit(self, x, y):\n",
    "        x = np.hstack((np.ones(len(x)).reshape(-1,1),x))\n",
    "        self.w = np.random.randint(10,30,x.shape[1])\n",
    "        for i in range(self.iters):\n",
    "            pred = np.dot(x,self.w)\n",
    "            \n",
    "            loss = np.sum((y - pred)**2)/x.shape[0]\n",
    "            \n",
    "            w_i = []\n",
    "            for j in range(len(self.w)):\n",
    "                t = self.w[j] - self.lr * np.sum((pred-y)*x[:,j])*2/x.shape[0]\n",
    "                w_i.append(t)\n",
    "            self.w = np.array(w_i)\n",
    "            if abs(loss - np.sum((np.dot(x,self.w)-y)**2)/x.shape[0]) < 0.01:\n",
    "                print(loss)\n",
    "                break\n",
    "    def predict(self, x):\n",
    "        x = np.hstack((np.ones(len(x)).reshape(-1,1),x))\n",
    "        return np.dot(x,self.w)"
   ]
  },
  {
   "cell_type": "code",
   "execution_count": 80,
   "id": "c656a225",
   "metadata": {},
   "outputs": [
    {
     "name": "stdout",
     "output_type": "stream",
     "text": [
      "2.6710146872303966\n"
     ]
    },
    {
     "data": {
      "text/plain": [
       "array([9.29609015, 2.73224141])"
      ]
     },
     "execution_count": 80,
     "metadata": {},
     "output_type": "execute_result"
    },
    {
     "data": {
      "image/png": "[encoded data removed]",
      "text/plain": [
       "<Figure size 432x288 with 1 Axes>"
      ]
     },
     "metadata": {
      "needs_background": "light"
     },
     "output_type": "display_data"
    }
   ],
   "source": [
    "from sklearn.datasets import make_regression\n",
    "from matplotlib import pyplot as plt\n",
    "np.random.seed(42)\n",
    "\n",
    "linRegInstance = linReg(iters=3000, lr=0.001)\n",
    "linRegInstance.fit(x, y.reshape(y.shape[0]))\n",
    "pred = linRegInstance.predict(x)\n",
    "\n",
    "plt.scatter(x, y)\n",
    "plt.plot(x, pred, c='red')\n",
    "\n",
    "linRegInstance.w"
   ]
  },
  {
   "cell_type": "code",
   "execution_count": 37,
   "id": "5f5a7786",
   "metadata": {},
   "outputs": [],
   "source": [
    "# Проверим размерности\n",
    "assert pred.shape == np.array(y.reshape(12)).shape"
   ]
  },
  {
   "cell_type": "code",
   "execution_count": 39,
   "id": "63b02ef6",
   "metadata": {},
   "outputs": [],
   "source": [
    "import pandas as pd"
   ]
  },
  {
   "cell_type": "code",
   "execution_count": 43,
   "id": "961b59d7",
   "metadata": {},
   "outputs": [],
   "source": [
    "data = pd.read_csv('C:\\\\Users\\\\Ильнар\\\\Мои алгоритмы\\\\train.csv')"
   ]
  },
  {
   "cell_type": "code",
   "execution_count": 44,
   "id": "c575a9f5",
   "metadata": {},
   "outputs": [
    {
     "data": {
      "text/html": [
       "<div>\n",
       "<style scoped>\n",
       "    .dataframe tbody tr th:only-of-type {\n",
       "        vertical-align: middle;\n",
       "    }\n",
       "\n",
       "    .dataframe tbody tr th {\n",
       "        vertical-align: top;\n",
       "    }\n",
       "\n",
       "    .dataframe thead th {\n",
       "        text-align: right;\n",
       "    }\n",
       "</style>\n",
       "<table border=\"1\" class=\"dataframe\">\n",
       "  <thead>\n",
       "    <tr style=\"text-align: right;\">\n",
       "      <th></th>\n",
       "      <th>datetime</th>\n",
       "      <th>season</th>\n",
       "      <th>holiday</th>\n",
       "      <th>workingday</th>\n",
       "      <th>weather</th>\n",
       "      <th>temp</th>\n",
       "      <th>atemp</th>\n",
       "      <th>humidity</th>\n",
       "      <th>windspeed</th>\n",
       "      <th>casual</th>\n",
       "      <th>registered</th>\n",
       "      <th>count</th>\n",
       "    </tr>\n",
       "  </thead>\n",
       "  <tbody>\n",
       "    <tr>\n",
       "      <th>0</th>\n",
       "      <td>2011-01-01 00:00:00</td>\n",
       "      <td>1</td>\n",
       "      <td>0</td>\n",
       "      <td>0</td>\n",
       "      <td>1</td>\n",
       "      <td>9.84</td>\n",
       "      <td>14.395</td>\n",
       "      <td>81</td>\n",
       "      <td>0.0</td>\n",
       "      <td>3</td>\n",
       "      <td>13</td>\n",
       "      <td>16</td>\n",
       "    </tr>\n",
       "    <tr>\n",
       "      <th>1</th>\n",
       "      <td>2011-01-01 01:00:00</td>\n",
       "      <td>1</td>\n",
       "      <td>0</td>\n",
       "      <td>0</td>\n",
       "      <td>1</td>\n",
       "      <td>9.02</td>\n",
       "      <td>13.635</td>\n",
       "      <td>80</td>\n",
       "      <td>0.0</td>\n",
       "      <td>8</td>\n",
       "      <td>32</td>\n",
       "      <td>40</td>\n",
       "    </tr>\n",
       "    <tr>\n",
       "      <th>2</th>\n",
       "      <td>2011-01-01 02:00:00</td>\n",
       "      <td>1</td>\n",
       "      <td>0</td>\n",
       "      <td>0</td>\n",
       "      <td>1</td>\n",
       "      <td>9.02</td>\n",
       "      <td>13.635</td>\n",
       "      <td>80</td>\n",
       "      <td>0.0</td>\n",
       "      <td>5</td>\n",
       "      <td>27</td>\n",
       "      <td>32</td>\n",
       "    </tr>\n",
       "    <tr>\n",
       "      <th>3</th>\n",
       "      <td>2011-01-01 03:00:00</td>\n",
       "      <td>1</td>\n",
       "      <td>0</td>\n",
       "      <td>0</td>\n",
       "      <td>1</td>\n",
       "      <td>9.84</td>\n",
       "      <td>14.395</td>\n",
       "      <td>75</td>\n",
       "      <td>0.0</td>\n",
       "      <td>3</td>\n",
       "      <td>10</td>\n",
       "      <td>13</td>\n",
       "    </tr>\n",
       "    <tr>\n",
       "      <th>4</th>\n",
       "      <td>2011-01-01 04:00:00</td>\n",
       "      <td>1</td>\n",
       "      <td>0</td>\n",
       "      <td>0</td>\n",
       "      <td>1</td>\n",
       "      <td>9.84</td>\n",
       "      <td>14.395</td>\n",
       "      <td>75</td>\n",
       "      <td>0.0</td>\n",
       "      <td>0</td>\n",
       "      <td>1</td>\n",
       "      <td>1</td>\n",
       "    </tr>\n",
       "  </tbody>\n",
       "</table>\n",
       "</div>"
      ],
      "text/plain": [
       "              datetime  season  holiday  workingday  weather  temp   atemp  \\\n",
       "0  2011-01-01 00:00:00       1        0           0        1  9.84  14.395   \n",
       "1  2011-01-01 01:00:00       1        0           0        1  9.02  13.635   \n",
       "2  2011-01-01 02:00:00       1        0           0        1  9.02  13.635   \n",
       "3  2011-01-01 03:00:00       1        0           0        1  9.84  14.395   \n",
       "4  2011-01-01 04:00:00       1        0           0        1  9.84  14.395   \n",
       "\n",
       "   humidity  windspeed  casual  registered  count  \n",
       "0        81        0.0       3          13     16  \n",
       "1        80        0.0       8          32     40  \n",
       "2        80        0.0       5          27     32  \n",
       "3        75        0.0       3          10     13  \n",
       "4        75        0.0       0           1      1  "
      ]
     },
     "execution_count": 44,
     "metadata": {},
     "output_type": "execute_result"
    }
   ],
   "source": [
    "data.head()"
   ]
  },
  {
   "cell_type": "markdown",
   "id": "3b06b652",
   "metadata": {},
   "source": [
    "Взглянем на распределение признаков, используя графики из библиотеки seaborn.\n",
    "По сути, seaborn это некая обертка над matplotlib, позволяющая строить чуть более красивые графики.\n",
    "\n",
    "Сейчас нам понадобится kdeplot.\n",
    "Данный график показывает распределение плотности случайной величины, за которую мы берем столбец таблицы."
   ]
  },
  {
   "cell_type": "code",
   "execution_count": 48,
   "id": "f290b960",
   "metadata": {},
   "outputs": [
    {
     "data": {
      "text/plain": [
       "<AxesSubplot:xlabel='temp', ylabel='Density'>"
      ]
     },
     "execution_count": 48,
     "metadata": {},
     "output_type": "execute_result"
    },
    {
     "data": {
      "image/png": "[encoded data removed]",
      "text/plain": [
       "<Figure size 432x288 with 1 Axes>"
      ]
     },
     "metadata": {
      "needs_background": "light"
     },
     "output_type": "display_data"
    }
   ],
   "source": [
    "import seaborn as sns\n",
    "\n",
    "sns.kdeplot(data['temp'])\n",
    "sns.kdeplot(data['atemp'])\n",
    "sns.kdeplot(data['windspeed'])\n",
    "sns.kdeplot(data['humidity'])"
   ]
  },
  {
   "cell_type": "code",
   "execution_count": 52,
   "id": "938e9e87",
   "metadata": {},
   "outputs": [
    {
     "data": {
      "image/png": "[encoded data removed]",
      "text/plain": [
       "<Figure size 864x576 with 1 Axes>"
      ]
     },
     "metadata": {
      "needs_background": "light"
     },
     "output_type": "display_data"
    }
   ],
   "source": [
    "plt.figure(figsize=(12,8))\n",
    "for i in data.drop(['count','datetime'], axis=1).columns:\n",
    "    sns.kdeplot(data[i])"
   ]
  },
  {
   "cell_type": "markdown",
   "id": "16b8f806",
   "metadata": {},
   "source": [
    "Hапишем небольшую реализацию StandardScaler. Суть его работы проста: все приводится к нулевому среднему значению, и единичному отклонению.\n",
    "Формула:\n",
    " \n",
    "x = x-mean(x)/std(x)\n",
    "\n",
    "где mean - среднее, std - среднеквадратичное отклонение.\n",
    "Соответсвенно после масштабирования Mean(X) = 0 и Std(X) = 0"
   ]
  },
  {
   "cell_type": "code",
   "execution_count": 57,
   "id": "f76b9f5e",
   "metadata": {},
   "outputs": [],
   "source": [
    "def StandardScaler(x):\n",
    "    mean = x - np.mean(x)\n",
    "    \n",
    "    return mean/np.std(x)"
   ]
  },
  {
   "cell_type": "code",
   "execution_count": 82,
   "id": "69273f21",
   "metadata": {},
   "outputs": [],
   "source": [
    "# разобьем выборку на целевые и нецелевые признаки\n",
    "x = data.drop(['count','datetime'], axis=1)\n",
    "y = data['count']"
   ]
  },
  {
   "cell_type": "code",
   "execution_count": 83,
   "id": "f804e2d8",
   "metadata": {},
   "outputs": [
    {
     "name": "stderr",
     "output_type": "stream",
     "text": [
      "C:\\python\\__pycache__\\envs\\dsfs\\lib\\site-packages\\numpy\\core\\fromnumeric.py:3438: FutureWarning: In a future version, DataFrame.mean(axis=None) will return a scalar mean over the entire DataFrame. To retain the old behavior, use 'frame.mean(axis=0)' or just 'frame.mean()'\n",
      "  return mean(axis=axis, dtype=dtype, out=out, **kwargs)\n"
     ]
    },
    {
     "data": {
      "text/html": [
       "<div>\n",
       "<style scoped>\n",
       "    .dataframe tbody tr th:only-of-type {\n",
       "        vertical-align: middle;\n",
       "    }\n",
       "\n",
       "    .dataframe tbody tr th {\n",
       "        vertical-align: top;\n",
       "    }\n",
       "\n",
       "    .dataframe thead th {\n",
       "        text-align: right;\n",
       "    }\n",
       "</style>\n",
       "<table border=\"1\" class=\"dataframe\">\n",
       "  <thead>\n",
       "    <tr style=\"text-align: right;\">\n",
       "      <th></th>\n",
       "      <th>season</th>\n",
       "      <th>holiday</th>\n",
       "      <th>workingday</th>\n",
       "      <th>weather</th>\n",
       "      <th>temp</th>\n",
       "      <th>atemp</th>\n",
       "      <th>humidity</th>\n",
       "      <th>windspeed</th>\n",
       "      <th>casual</th>\n",
       "      <th>registered</th>\n",
       "    </tr>\n",
       "  </thead>\n",
       "  <tbody>\n",
       "    <tr>\n",
       "      <th>0</th>\n",
       "      <td>-1.349864</td>\n",
       "      <td>-0.17149</td>\n",
       "      <td>-1.460672</td>\n",
       "      <td>-0.660178</td>\n",
       "      <td>-1.333661</td>\n",
       "      <td>-1.092737</td>\n",
       "      <td>0.993213</td>\n",
       "      <td>-1.567754</td>\n",
       "      <td>-0.660992</td>\n",
       "      <td>-0.943854</td>\n",
       "    </tr>\n",
       "    <tr>\n",
       "      <th>1</th>\n",
       "      <td>-1.349864</td>\n",
       "      <td>-0.17149</td>\n",
       "      <td>-1.460672</td>\n",
       "      <td>-0.660178</td>\n",
       "      <td>-1.438907</td>\n",
       "      <td>-1.182421</td>\n",
       "      <td>0.941249</td>\n",
       "      <td>-1.567754</td>\n",
       "      <td>-0.560908</td>\n",
       "      <td>-0.818052</td>\n",
       "    </tr>\n",
       "    <tr>\n",
       "      <th>2</th>\n",
       "      <td>-1.349864</td>\n",
       "      <td>-0.17149</td>\n",
       "      <td>-1.460672</td>\n",
       "      <td>-0.660178</td>\n",
       "      <td>-1.438907</td>\n",
       "      <td>-1.182421</td>\n",
       "      <td>0.941249</td>\n",
       "      <td>-1.567754</td>\n",
       "      <td>-0.620958</td>\n",
       "      <td>-0.851158</td>\n",
       "    </tr>\n",
       "    <tr>\n",
       "      <th>3</th>\n",
       "      <td>-1.349864</td>\n",
       "      <td>-0.17149</td>\n",
       "      <td>-1.460672</td>\n",
       "      <td>-0.660178</td>\n",
       "      <td>-1.333661</td>\n",
       "      <td>-1.092737</td>\n",
       "      <td>0.681430</td>\n",
       "      <td>-1.567754</td>\n",
       "      <td>-0.660992</td>\n",
       "      <td>-0.963717</td>\n",
       "    </tr>\n",
       "    <tr>\n",
       "      <th>4</th>\n",
       "      <td>-1.349864</td>\n",
       "      <td>-0.17149</td>\n",
       "      <td>-1.460672</td>\n",
       "      <td>-0.660178</td>\n",
       "      <td>-1.333661</td>\n",
       "      <td>-1.092737</td>\n",
       "      <td>0.681430</td>\n",
       "      <td>-1.567754</td>\n",
       "      <td>-0.721042</td>\n",
       "      <td>-1.023307</td>\n",
       "    </tr>\n",
       "    <tr>\n",
       "      <th>...</th>\n",
       "      <td>...</td>\n",
       "      <td>...</td>\n",
       "      <td>...</td>\n",
       "      <td>...</td>\n",
       "      <td>...</td>\n",
       "      <td>...</td>\n",
       "      <td>...</td>\n",
       "      <td>...</td>\n",
       "      <td>...</td>\n",
       "      <td>...</td>\n",
       "    </tr>\n",
       "    <tr>\n",
       "      <th>10881</th>\n",
       "      <td>1.338012</td>\n",
       "      <td>-0.17149</td>\n",
       "      <td>0.684616</td>\n",
       "      <td>-0.660178</td>\n",
       "      <td>-0.596935</td>\n",
       "      <td>-0.467310</td>\n",
       "      <td>-0.617666</td>\n",
       "      <td>1.617227</td>\n",
       "      <td>-0.580925</td>\n",
       "      <td>1.148417</td>\n",
       "    </tr>\n",
       "    <tr>\n",
       "      <th>10882</th>\n",
       "      <td>1.338012</td>\n",
       "      <td>-0.17149</td>\n",
       "      <td>0.684616</td>\n",
       "      <td>-0.660178</td>\n",
       "      <td>-0.702182</td>\n",
       "      <td>-0.735182</td>\n",
       "      <td>-0.253919</td>\n",
       "      <td>0.269704</td>\n",
       "      <td>-0.520875</td>\n",
       "      <td>0.499548</td>\n",
       "    </tr>\n",
       "    <tr>\n",
       "      <th>10883</th>\n",
       "      <td>1.338012</td>\n",
       "      <td>-0.17149</td>\n",
       "      <td>0.684616</td>\n",
       "      <td>-0.660178</td>\n",
       "      <td>-0.807428</td>\n",
       "      <td>-0.913959</td>\n",
       "      <td>-0.046064</td>\n",
       "      <td>0.269704</td>\n",
       "      <td>-0.640975</td>\n",
       "      <td>0.055934</td>\n",
       "    </tr>\n",
       "    <tr>\n",
       "      <th>10884</th>\n",
       "      <td>1.338012</td>\n",
       "      <td>-0.17149</td>\n",
       "      <td>0.684616</td>\n",
       "      <td>-0.660178</td>\n",
       "      <td>-0.807428</td>\n",
       "      <td>-0.735182</td>\n",
       "      <td>-0.046064</td>\n",
       "      <td>-0.832442</td>\n",
       "      <td>-0.480841</td>\n",
       "      <td>-0.255258</td>\n",
       "    </tr>\n",
       "    <tr>\n",
       "      <th>10885</th>\n",
       "      <td>1.338012</td>\n",
       "      <td>-0.17149</td>\n",
       "      <td>0.684616</td>\n",
       "      <td>-0.660178</td>\n",
       "      <td>-0.912675</td>\n",
       "      <td>-0.824865</td>\n",
       "      <td>0.213755</td>\n",
       "      <td>-0.465608</td>\n",
       "      <td>-0.640975</td>\n",
       "      <td>-0.473755</td>\n",
       "    </tr>\n",
       "  </tbody>\n",
       "</table>\n",
       "<p>10886 rows × 10 columns</p>\n",
       "</div>"
      ],
      "text/plain": [
       "         season  holiday  workingday   weather      temp     atemp  humidity  \\\n",
       "0     -1.349864 -0.17149   -1.460672 -0.660178 -1.333661 -1.092737  0.993213   \n",
       "1     -1.349864 -0.17149   -1.460672 -0.660178 -1.438907 -1.182421  0.941249   \n",
       "2     -1.349864 -0.17149   -1.460672 -0.660178 -1.438907 -1.182421  0.941249   \n",
       "3     -1.349864 -0.17149   -1.460672 -0.660178 -1.333661 -1.092737  0.681430   \n",
       "4     -1.349864 -0.17149   -1.460672 -0.660178 -1.333661 -1.092737  0.681430   \n",
       "...         ...      ...         ...       ...       ...       ...       ...   \n",
       "10881  1.338012 -0.17149    0.684616 -0.660178 -0.596935 -0.467310 -0.617666   \n",
       "10882  1.338012 -0.17149    0.684616 -0.660178 -0.702182 -0.735182 -0.253919   \n",
       "10883  1.338012 -0.17149    0.684616 -0.660178 -0.807428 -0.913959 -0.046064   \n",
       "10884  1.338012 -0.17149    0.684616 -0.660178 -0.807428 -0.735182 -0.046064   \n",
       "10885  1.338012 -0.17149    0.684616 -0.660178 -0.912675 -0.824865  0.213755   \n",
       "\n",
       "       windspeed    casual  registered  \n",
       "0      -1.567754 -0.660992   -0.943854  \n",
       "1      -1.567754 -0.560908   -0.818052  \n",
       "2      -1.567754 -0.620958   -0.851158  \n",
       "3      -1.567754 -0.660992   -0.963717  \n",
       "4      -1.567754 -0.721042   -1.023307  \n",
       "...          ...       ...         ...  \n",
       "10881   1.617227 -0.580925    1.148417  \n",
       "10882   0.269704 -0.520875    0.499548  \n",
       "10883   0.269704 -0.640975    0.055934  \n",
       "10884  -0.832442 -0.480841   -0.255258  \n",
       "10885  -0.465608 -0.640975   -0.473755  \n",
       "\n",
       "[10886 rows x 10 columns]"
      ]
     },
     "execution_count": 83,
     "metadata": {},
     "output_type": "execute_result"
    }
   ],
   "source": [
    "x_scaled = StandardScaler(x)\n",
    "x_scaled"
   ]
  },
  {
   "cell_type": "code",
   "execution_count": 59,
   "id": "2acc5705",
   "metadata": {},
   "outputs": [
    {
     "data": {
      "image/png": "[encoded data removed]",
      "text/plain": [
       "<Figure size 864x576 with 1 Axes>"
      ]
     },
     "metadata": {
      "needs_background": "light"
     },
     "output_type": "display_data"
    }
   ],
   "source": [
    "# Видно, что признаки теперь имеют одинаковый масштаб, и их распределение похоже на нормальное.\n",
    "plt.figure(figsize=(12,8))\n",
    "for i in x_scaled.columns:\n",
    "    sns.kdeplot(x_scaled[i])"
   ]
  },
  {
   "cell_type": "markdown",
   "id": "81fdef64",
   "metadata": {},
   "source": [
    "Проверим среднее и отклонение. Поле values классов DataFrame или Series вернет numpy-массив."
   ]
  },
  {
   "cell_type": "code",
   "execution_count": 84,
   "id": "0752b4ec",
   "metadata": {},
   "outputs": [
    {
     "name": "stdout",
     "output_type": "stream",
     "text": [
      "-3.16957149076892e-15\n"
     ]
    },
    {
     "data": {
      "text/plain": [
       "1.000000000000001"
      ]
     },
     "execution_count": 84,
     "metadata": {},
     "output_type": "execute_result"
    }
   ],
   "source": [
    "print(np.mean(x_scaled.values))\n",
    "np.std(x_scaled.values)"
   ]
  },
  {
   "cell_type": "code",
   "execution_count": 85,
   "id": "05696b7f",
   "metadata": {},
   "outputs": [
    {
     "name": "stdout",
     "output_type": "stream",
     "text": [
      "6.6494726855446\n"
     ]
    }
   ],
   "source": [
    "# переименуем переменные для удобства,\n",
    "# и превратим данные в numpy-массивы.\n",
    "x = x_scaled.values\n",
    "y = y.values\n",
    "\n",
    "\n",
    "model = linReg(iters=5000, lr=0.001)\n",
    "model.fit(x, y)\n",
    "pred = model.predict(x)"
   ]
  },
  {
   "cell_type": "code",
   "execution_count": 86,
   "id": "0b7fa6d8",
   "metadata": {},
   "outputs": [],
   "source": [
    "assert pred.shape == y.shape, \"Неправильные размеры\""
   ]
  },
  {
   "cell_type": "code",
   "execution_count": null,
   "id": "71fc502b",
   "metadata": {},
   "outputs": [],
   "source": [
    "Оценка за задание высчитывается следующим образом исходя из RSS и TSS:\n",
    "\n",
    "Собственно, точно так же оценивается качество линейной регрессии в библиотеке sklearn.\n",
    "\n",
    "Если Ваш total score  выше либо равен 0.79, то оценка - 100 баллов.\n",
    "Если Ваш total score  выше либо равен 0.69, то оценка - 85 баллов\n",
    "Если Ваш total score  выше либо равен 0.55, то оценка - 70 баллов\n",
    "Если Ваш total score  выше 0.5, то оценка - 40 баллов.\n",
    "Если Ваш total score  равен либо ниже 0.5, то оценка - 0 баллов."
   ]
  },
  {
   "cell_type": "code",
   "execution_count": 87,
   "id": "2e7672f1",
   "metadata": {},
   "outputs": [
    {
     "name": "stdout",
     "output_type": "stream",
     "text": [
      "Оценка 100 баллов\n"
     ]
    }
   ],
   "source": [
    "RSS = ((y - pred) ** 2).sum()\n",
    "TSS = ((y - y.mean()) ** 2).sum()\n",
    "\n",
    "score = 1-RSS/TSS\n",
    "print(f'Оценка {100 if score >= 0.79 else (85 if score >= 0.69 else (70 if score >= 0.55 else (40 if score > 0.5 else 0)))} баллов')"
   ]
  },
  {
   "cell_type": "code",
   "execution_count": 89,
   "id": "50973769",
   "metadata": {},
   "outputs": [
    {
     "data": {
      "text/plain": [
       "(1.0, 0.9997976405352919, 1.0)"
      ]
     },
     "execution_count": 89,
     "metadata": {},
     "output_type": "execute_result"
    }
   ],
   "source": [
    "# сравним нашу реализацию с реализацией из Sklearn\n",
    "from sklearn.linear_model import LinearRegression\n",
    "\n",
    "model = LinearRegression()\n",
    "model.fit(x, y)\n",
    "pred_lib = model.predict(x)\n",
    "\n",
    "RSS = ((y - pred_lib) ** 2).sum()\n",
    "TSS = ((y - y.mean()) ** 2).sum()\n",
    "\n",
    "score_lib = 1-RSS/TSS\n",
    "score_lib, score, model.score(x, y)"
   ]
  },
  {
   "cell_type": "code",
   "execution_count": null,
   "id": "caf44e98",
   "metadata": {},
   "outputs": [],
   "source": []
  },
  {
   "cell_type": "markdown",
   "id": "82805bc6",
   "metadata": {},
   "source": [
    "Вопросы"
   ]
  },
  {
   "cell_type": "code",
   "execution_count": 1,
   "id": "b4e9090f",
   "metadata": {},
   "outputs": [],
   "source": [
    "import pandas as pd\n",
    "import numpy as np\n",
    "from matplotlib import pyplot as plt\n",
    "import seaborn as sns\n",
    "import scipy\n",
    "%matplotlib inline"
   ]
  },
  {
   "cell_type": "code",
   "execution_count": 2,
   "id": "8fda4b27",
   "metadata": {},
   "outputs": [
    {
     "data": {
      "text/html": [
       "<div>\n",
       "<style scoped>\n",
       "    .dataframe tbody tr th:only-of-type {\n",
       "        vertical-align: middle;\n",
       "    }\n",
       "\n",
       "    .dataframe tbody tr th {\n",
       "        vertical-align: top;\n",
       "    }\n",
       "\n",
       "    .dataframe thead th {\n",
       "        text-align: right;\n",
       "    }\n",
       "</style>\n",
       "<table border=\"1\" class=\"dataframe\">\n",
       "  <thead>\n",
       "    <tr style=\"text-align: right;\">\n",
       "      <th></th>\n",
       "      <th>MSSubClass</th>\n",
       "      <th>MSZoning</th>\n",
       "      <th>LotFrontage</th>\n",
       "      <th>LotArea</th>\n",
       "      <th>Street</th>\n",
       "      <th>Alley</th>\n",
       "      <th>LotShape</th>\n",
       "      <th>LandContour</th>\n",
       "      <th>Utilities</th>\n",
       "      <th>LotConfig</th>\n",
       "      <th>...</th>\n",
       "      <th>PoolArea</th>\n",
       "      <th>PoolQC</th>\n",
       "      <th>Fence</th>\n",
       "      <th>MiscFeature</th>\n",
       "      <th>MiscVal</th>\n",
       "      <th>MoSold</th>\n",
       "      <th>YrSold</th>\n",
       "      <th>SaleType</th>\n",
       "      <th>SaleCondition</th>\n",
       "      <th>SalePrice</th>\n",
       "    </tr>\n",
       "    <tr>\n",
       "      <th>Id</th>\n",
       "      <th></th>\n",
       "      <th></th>\n",
       "      <th></th>\n",
       "      <th></th>\n",
       "      <th></th>\n",
       "      <th></th>\n",
       "      <th></th>\n",
       "      <th></th>\n",
       "      <th></th>\n",
       "      <th></th>\n",
       "      <th></th>\n",
       "      <th></th>\n",
       "      <th></th>\n",
       "      <th></th>\n",
       "      <th></th>\n",
       "      <th></th>\n",
       "      <th></th>\n",
       "      <th></th>\n",
       "      <th></th>\n",
       "      <th></th>\n",
       "      <th></th>\n",
       "    </tr>\n",
       "  </thead>\n",
       "  <tbody>\n",
       "    <tr>\n",
       "      <th>1</th>\n",
       "      <td>60</td>\n",
       "      <td>RL</td>\n",
       "      <td>65.0</td>\n",
       "      <td>8450</td>\n",
       "      <td>Pave</td>\n",
       "      <td>NaN</td>\n",
       "      <td>Reg</td>\n",
       "      <td>Lvl</td>\n",
       "      <td>AllPub</td>\n",
       "      <td>Inside</td>\n",
       "      <td>...</td>\n",
       "      <td>0</td>\n",
       "      <td>NaN</td>\n",
       "      <td>NaN</td>\n",
       "      <td>NaN</td>\n",
       "      <td>0</td>\n",
       "      <td>2</td>\n",
       "      <td>2008</td>\n",
       "      <td>WD</td>\n",
       "      <td>Normal</td>\n",
       "      <td>208500</td>\n",
       "    </tr>\n",
       "    <tr>\n",
       "      <th>2</th>\n",
       "      <td>20</td>\n",
       "      <td>RL</td>\n",
       "      <td>80.0</td>\n",
       "      <td>9600</td>\n",
       "      <td>Pave</td>\n",
       "      <td>NaN</td>\n",
       "      <td>Reg</td>\n",
       "      <td>Lvl</td>\n",
       "      <td>AllPub</td>\n",
       "      <td>FR2</td>\n",
       "      <td>...</td>\n",
       "      <td>0</td>\n",
       "      <td>NaN</td>\n",
       "      <td>NaN</td>\n",
       "      <td>NaN</td>\n",
       "      <td>0</td>\n",
       "      <td>5</td>\n",
       "      <td>2007</td>\n",
       "      <td>WD</td>\n",
       "      <td>Normal</td>\n",
       "      <td>181500</td>\n",
       "    </tr>\n",
       "    <tr>\n",
       "      <th>3</th>\n",
       "      <td>60</td>\n",
       "      <td>RL</td>\n",
       "      <td>68.0</td>\n",
       "      <td>11250</td>\n",
       "      <td>Pave</td>\n",
       "      <td>NaN</td>\n",
       "      <td>IR1</td>\n",
       "      <td>Lvl</td>\n",
       "      <td>AllPub</td>\n",
       "      <td>Inside</td>\n",
       "      <td>...</td>\n",
       "      <td>0</td>\n",
       "      <td>NaN</td>\n",
       "      <td>NaN</td>\n",
       "      <td>NaN</td>\n",
       "      <td>0</td>\n",
       "      <td>9</td>\n",
       "      <td>2008</td>\n",
       "      <td>WD</td>\n",
       "      <td>Normal</td>\n",
       "      <td>223500</td>\n",
       "    </tr>\n",
       "    <tr>\n",
       "      <th>4</th>\n",
       "      <td>70</td>\n",
       "      <td>RL</td>\n",
       "      <td>60.0</td>\n",
       "      <td>9550</td>\n",
       "      <td>Pave</td>\n",
       "      <td>NaN</td>\n",
       "      <td>IR1</td>\n",
       "      <td>Lvl</td>\n",
       "      <td>AllPub</td>\n",
       "      <td>Corner</td>\n",
       "      <td>...</td>\n",
       "      <td>0</td>\n",
       "      <td>NaN</td>\n",
       "      <td>NaN</td>\n",
       "      <td>NaN</td>\n",
       "      <td>0</td>\n",
       "      <td>2</td>\n",
       "      <td>2006</td>\n",
       "      <td>WD</td>\n",
       "      <td>Abnorml</td>\n",
       "      <td>140000</td>\n",
       "    </tr>\n",
       "    <tr>\n",
       "      <th>5</th>\n",
       "      <td>60</td>\n",
       "      <td>RL</td>\n",
       "      <td>84.0</td>\n",
       "      <td>14260</td>\n",
       "      <td>Pave</td>\n",
       "      <td>NaN</td>\n",
       "      <td>IR1</td>\n",
       "      <td>Lvl</td>\n",
       "      <td>AllPub</td>\n",
       "      <td>FR2</td>\n",
       "      <td>...</td>\n",
       "      <td>0</td>\n",
       "      <td>NaN</td>\n",
       "      <td>NaN</td>\n",
       "      <td>NaN</td>\n",
       "      <td>0</td>\n",
       "      <td>12</td>\n",
       "      <td>2008</td>\n",
       "      <td>WD</td>\n",
       "      <td>Normal</td>\n",
       "      <td>250000</td>\n",
       "    </tr>\n",
       "  </tbody>\n",
       "</table>\n",
       "<p>5 rows × 80 columns</p>\n",
       "</div>"
      ],
      "text/plain": [
       "    MSSubClass MSZoning  LotFrontage  LotArea Street Alley LotShape  \\\n",
       "Id                                                                    \n",
       "1           60       RL         65.0     8450   Pave   NaN      Reg   \n",
       "2           20       RL         80.0     9600   Pave   NaN      Reg   \n",
       "3           60       RL         68.0    11250   Pave   NaN      IR1   \n",
       "4           70       RL         60.0     9550   Pave   NaN      IR1   \n",
       "5           60       RL         84.0    14260   Pave   NaN      IR1   \n",
       "\n",
       "   LandContour Utilities LotConfig  ... PoolArea PoolQC Fence MiscFeature  \\\n",
       "Id                                  ...                                     \n",
       "1          Lvl    AllPub    Inside  ...        0    NaN   NaN         NaN   \n",
       "2          Lvl    AllPub       FR2  ...        0    NaN   NaN         NaN   \n",
       "3          Lvl    AllPub    Inside  ...        0    NaN   NaN         NaN   \n",
       "4          Lvl    AllPub    Corner  ...        0    NaN   NaN         NaN   \n",
       "5          Lvl    AllPub       FR2  ...        0    NaN   NaN         NaN   \n",
       "\n",
       "   MiscVal MoSold  YrSold  SaleType  SaleCondition  SalePrice  \n",
       "Id                                                             \n",
       "1        0      2    2008        WD         Normal     208500  \n",
       "2        0      5    2007        WD         Normal     181500  \n",
       "3        0      9    2008        WD         Normal     223500  \n",
       "4        0      2    2006        WD        Abnorml     140000  \n",
       "5        0     12    2008        WD         Normal     250000  \n",
       "\n",
       "[5 rows x 80 columns]"
      ]
     },
     "execution_count": 2,
     "metadata": {},
     "output_type": "execute_result"
    }
   ],
   "source": [
    "df = pd.read_csv('C:\\\\Users\\\\Ильнар\\\\Мои алгоритмы\\\\train_kv.csv', index_col='Id')\n",
    "df.head()"
   ]
  },
  {
   "cell_type": "code",
   "execution_count": 4,
   "id": "e0077763",
   "metadata": {},
   "outputs": [],
   "source": [
    "assert df.shape == (1460, 80)"
   ]
  },
  {
   "cell_type": "code",
   "execution_count": 5,
   "id": "a48d689c",
   "metadata": {},
   "outputs": [
    {
     "data": {
      "text/plain": [
       "Index(['MSSubClass', 'MSZoning', 'LotFrontage', 'LotArea', 'Street', 'Alley',\n",
       "       'LotShape', 'LandContour', 'Utilities', 'LotConfig', 'LandSlope',\n",
       "       'Neighborhood', 'Condition1', 'Condition2', 'BldgType', 'HouseStyle',\n",
       "       'OverallQual', 'OverallCond', 'YearBuilt', 'YearRemodAdd', 'RoofStyle',\n",
       "       'RoofMatl', 'Exterior1st', 'Exterior2nd', 'MasVnrType', 'MasVnrArea',\n",
       "       'ExterQual', 'ExterCond', 'Foundation', 'BsmtQual', 'BsmtCond',\n",
       "       'BsmtExposure', 'BsmtFinType1', 'BsmtFinSF1', 'BsmtFinType2',\n",
       "       'BsmtFinSF2', 'BsmtUnfSF', 'TotalBsmtSF', 'Heating', 'HeatingQC',\n",
       "       'CentralAir', 'Electrical', '1stFlrSF', '2ndFlrSF', 'LowQualFinSF',\n",
       "       'GrLivArea', 'BsmtFullBath', 'BsmtHalfBath', 'FullBath', 'HalfBath',\n",
       "       'BedroomAbvGr', 'KitchenAbvGr', 'KitchenQual', 'TotRmsAbvGrd',\n",
       "       'Functional', 'Fireplaces', 'FireplaceQu', 'GarageType', 'GarageYrBlt',\n",
       "       'GarageFinish', 'GarageCars', 'GarageArea', 'GarageQual', 'GarageCond',\n",
       "       'PavedDrive', 'WoodDeckSF', 'OpenPorchSF', 'EnclosedPorch', '3SsnPorch',\n",
       "       'ScreenPorch', 'PoolArea', 'PoolQC', 'Fence', 'MiscFeature', 'MiscVal',\n",
       "       'MoSold', 'YrSold', 'SaleType', 'SaleCondition', 'SalePrice'],\n",
       "      dtype='object')"
      ]
     },
     "execution_count": 5,
     "metadata": {},
     "output_type": "execute_result"
    }
   ],
   "source": [
    "df.columns"
   ]
  },
  {
   "cell_type": "markdown",
   "id": "80fec2cd",
   "metadata": {},
   "source": [
    "Задание:\n",
    "\n",
    "  Нарисуйте график распределения SalePrice, используйте аргумент fit=scipy.stats.norm, чтобы нарисовать предполагаемое нормальное распределение. Напечатайте значение коэффициент эксцесса kurtosis для этого признака.\n",
    "  Нарисуйте график scipy.stats.probplot - он покажет нам реальные квантили выборки и теоретические. По нему можно видеть, на сколько много выьросов и на сколько выборка предсказуема.\n",
    "  Что вы можете сказать по поводу выборки основываясь на probplot. wiki"
   ]
  },
  {
   "cell_type": "code",
   "execution_count": 3,
   "id": "56f62ea6",
   "metadata": {},
   "outputs": [
    {
     "data": {
      "text/plain": [
       "[<matplotlib.lines.Line2D at 0x1e76dd72eb0>]"
      ]
     },
     "execution_count": 3,
     "metadata": {},
     "output_type": "execute_result"
    },
    {
     "data": {
      "image/png": "[encoded data removed]",
      "text/plain": [
       "<Figure size 432x288 with 1 Axes>"
      ]
     },
     "metadata": {
      "needs_background": "light"
     },
     "output_type": "display_data"
    }
   ],
   "source": [
    "plt.hist(df.SalePrice)\n",
    "\n",
    "x = np.linspace(scipy.stats.norm.ppf(0.01),\n",
    "                scipy.stats.norm.ppf(0.99), 100)\n",
    "plt.plot(x, scipy.stats.norm.pdf(x),\n",
    "       'r-', lw=5, alpha=0.6, label='norm pdf')"
   ]
  },
  {
   "cell_type": "code",
   "execution_count": 4,
   "id": "915a84be",
   "metadata": {},
   "outputs": [],
   "source": [
    "kurt = scipy.stats.kurtosis(df.SalePrice)"
   ]
  },
  {
   "cell_type": "code",
   "execution_count": 5,
   "id": "e79b91f6",
   "metadata": {},
   "outputs": [
    {
     "data": {
      "text/plain": [
       "((array([-3.30513952, -3.04793228, -2.90489705, ...,  2.90489705,\n",
       "          3.04793228,  3.30513952]),\n",
       "  array([ 34900,  35311,  37900, ..., 625000, 745000, 755000], dtype=int64)),\n",
       " (74160.16474519417, 180921.19589041095, 0.9319665641512986))"
      ]
     },
     "execution_count": 5,
     "metadata": {},
     "output_type": "execute_result"
    },
    {
     "data": {
      "image/png": "[encoded data removed]",
      "text/plain": [
       "<Figure size 432x288 with 1 Axes>"
      ]
     },
     "metadata": {
      "needs_background": "light"
     },
     "output_type": "display_data"
    }
   ],
   "source": [
    "scipy.stats.probplot(df.SalePrice,plot=plt)"
   ]
  },
  {
   "cell_type": "markdown",
   "id": "b22dc4af",
   "metadata": {},
   "source": [
    "У нас очень много разных признаков. Любопытно построить разные графики. Позаботьтесь о красоте и наглядности графиков, сделайте так, чтобы они были большими и их можно было прочесть. Даже подписи на графиках должны быть читаемые!!\n",
    "\n",
    "Задания: Постройте графики, отражающие зависимости этих признаков:\n",
    "\n",
    "     дата постройки дома и его стоимости\n",
    "     \"качество дома и материалов\" и его стоимости\n",
    "     площадь дома и стоимость"
   ]
  },
  {
   "cell_type": "code",
   "execution_count": 6,
   "id": "468b333b",
   "metadata": {},
   "outputs": [
    {
     "ename": "NameError",
     "evalue": "name 'df_t' is not defined",
     "output_type": "error",
     "traceback": [
      "\u001b[1;31m---------------------------------------------------------------------------\u001b[0m",
      "\u001b[1;31mNameError\u001b[0m                                 Traceback (most recent call last)",
      "Input \u001b[1;32mIn [6]\u001b[0m, in \u001b[0;36m<cell line: 9>\u001b[1;34m()\u001b[0m\n\u001b[0;32m      6\u001b[0m df_m \u001b[38;5;241m=\u001b[39m df\u001b[38;5;241m.\u001b[39mMoSold\u001b[38;5;241m.\u001b[39mastype(\u001b[38;5;124m'\u001b[39m\u001b[38;5;124mstr\u001b[39m\u001b[38;5;124m'\u001b[39m)\n\u001b[0;32m      7\u001b[0m df_y \u001b[38;5;241m=\u001b[39m df\u001b[38;5;241m.\u001b[39mYrSold\u001b[38;5;241m.\u001b[39mastype(\u001b[38;5;124m'\u001b[39m\u001b[38;5;124mstr\u001b[39m\u001b[38;5;124m'\u001b[39m)\n\u001b[1;32m----> 9\u001b[0m df_v \u001b[38;5;241m=\u001b[39m pd\u001b[38;5;241m.\u001b[39mDataFrame(pd\u001b[38;5;241m.\u001b[39mto_datetime(df_y \u001b[38;5;241m+\u001b[39m \u001b[38;5;124m'\u001b[39m\u001b[38;5;124m-\u001b[39m\u001b[38;5;124m'\u001b[39m \u001b[38;5;241m+\u001b[39m \u001b[43mdf_t\u001b[49m, \u001b[38;5;28mformat\u001b[39m\u001b[38;5;241m=\u001b[39m\u001b[38;5;124m'\u001b[39m\u001b[38;5;124m%\u001b[39m\u001b[38;5;124mY-\u001b[39m\u001b[38;5;124m%\u001b[39m\u001b[38;5;124mm\u001b[39m\u001b[38;5;124m'\u001b[39m),columns\u001b[38;5;241m=\u001b[39m[\u001b[38;5;124m'\u001b[39m\u001b[38;5;124mvremya\u001b[39m\u001b[38;5;124m'\u001b[39m])\n\u001b[0;32m     11\u001b[0m df_v[\u001b[38;5;124m'\u001b[39m\u001b[38;5;124mprice\u001b[39m\u001b[38;5;124m'\u001b[39m] \u001b[38;5;241m=\u001b[39m df\u001b[38;5;241m.\u001b[39mSalePrice\n\u001b[0;32m     12\u001b[0m sorted_df \u001b[38;5;241m=\u001b[39m df_v\u001b[38;5;241m.\u001b[39msort_values(\u001b[38;5;124m'\u001b[39m\u001b[38;5;124mvremya\u001b[39m\u001b[38;5;124m'\u001b[39m)\n",
      "\u001b[1;31mNameError\u001b[0m: name 'df_t' is not defined"
     ]
    },
    {
     "data": {
      "image/png": "[encoded data removed]",
      "text/plain": [
       "<Figure size 936x576 with 1 Axes>"
      ]
     },
     "metadata": {
      "needs_background": "light"
     },
     "output_type": "display_data"
    }
   ],
   "source": [
    "# дата постройки дома и его стоимости\n",
    "\n",
    "figure = plt.figure(figsize=(13,8))\n",
    "ax = plt.subplot()\n",
    "\n",
    "df_m = df.MoSold.astype('str')\n",
    "df_y = df.YrSold.astype('str')\n",
    "\n",
    "df_v = pd.DataFrame(pd.to_datetime(df_y + '-' + df_t, format='%Y-%m'),columns=['vremya'])\n",
    "\n",
    "df_v['price'] = df.SalePrice\n",
    "sorted_df = df_v.sort_values('vremya')\n",
    "\n",
    "ax.plot(sorted_df.vremya,sorted_df.price)\n",
    "plt.xlabel('Время')\n",
    "plt.ylabel('Стоимость')\n",
    "plt.title('Зависимость стоимости квартиры от времени')"
   ]
  },
  {
   "cell_type": "code",
   "execution_count": null,
   "id": "a08817d8",
   "metadata": {},
   "outputs": [],
   "source": [
    "sns.jointplot(x='YearBuilt',y='SalePrice',data=df)"
   ]
  },
  {
   "cell_type": "code",
   "execution_count": 14,
   "id": "6b974697",
   "metadata": {},
   "outputs": [
    {
     "data": {
      "text/plain": [
       "<seaborn.axisgrid.FacetGrid at 0x1e773d74a30>"
      ]
     },
     "execution_count": 14,
     "metadata": {},
     "output_type": "execute_result"
    },
    {
     "data": {
      "text/plain": [
       "<Figure size 1080x720 with 0 Axes>"
      ]
     },
     "metadata": {},
     "output_type": "display_data"
    },
    {
     "data": {
      "image/png": "[encoded data removed]",
      "text/plain": [
       "<Figure size 360x360 with 1 Axes>"
      ]
     },
     "metadata": {
      "needs_background": "light"
     },
     "output_type": "display_data"
    }
   ],
   "source": [
    "# \"качество дома и материалов\" и его стоимости\n",
    "sns.lmplot(x='OverallQual',y='SalePrice',data=df)\n"
   ]
  },
  {
   "cell_type": "markdown",
   "id": "dc062afd",
   "metadata": {},
   "source": [
    "Судя по предыдущим графикам, есть некоторые линейные зависимости. Но строить по графику на каждый признак из 80 штук немного долго и не наглядно. Постройте красивый график корреляции всех признаков. Используйте цвета RdYlGn, так будет нагляднее. Не забудьте применить маску, чтобы убрать дублирующую половину матрицы."
   ]
  },
  {
   "cell_type": "code",
   "execution_count": 34,
   "id": "b1a004e1",
   "metadata": {},
   "outputs": [
    {
     "data": {
      "text/plain": [
       "<AxesSubplot:>"
      ]
     },
     "execution_count": 34,
     "metadata": {},
     "output_type": "execute_result"
    },
    {
     "data": {
      "image/png": "[encoded data removed]",
      "text/plain": [
       "<Figure size 1080x936 with 2 Axes>"
      ]
     },
     "metadata": {
      "needs_background": "light"
     },
     "output_type": "display_data"
    }
   ],
   "source": [
    "corr = df.corr()\n",
    "mask = np.zeros_like(corr)\n",
    "mask[np.triu_indices_from(mask)] = True\n",
    "f,ax = plt.subplots(figsize=(15,13))\n",
    "\n",
    "sns.heatmap(data=corr,cmap='RdYlGn',mask=mask)"
   ]
  },
  {
   "cell_type": "code",
   "execution_count": 56,
   "id": "72f3cc58",
   "metadata": {},
   "outputs": [
    {
     "data": {
      "text/plain": [
       "Index(['MSSubClass', 'LotFrontage', 'LotArea', 'OverallQual', 'OverallCond',\n",
       "       'YearBuilt', 'YearRemodAdd', 'MasVnrArea', 'BsmtFinSF1', 'BsmtFinSF2',\n",
       "       'BsmtUnfSF', 'TotalBsmtSF', '1stFlrSF', '2ndFlrSF', 'LowQualFinSF',\n",
       "       'GrLivArea', 'BsmtFullBath', 'BsmtHalfBath', 'FullBath', 'HalfBath',\n",
       "       'BedroomAbvGr', 'KitchenAbvGr', 'TotRmsAbvGrd', 'Fireplaces',\n",
       "       'GarageYrBlt', 'GarageCars', 'GarageArea', 'WoodDeckSF', 'OpenPorchSF',\n",
       "       'EnclosedPorch', '3SsnPorch', 'ScreenPorch', 'PoolArea', 'MiscVal',\n",
       "       'MoSold', 'YrSold', 'SalePrice'],\n",
       "      dtype='object')"
      ]
     },
     "execution_count": 56,
     "metadata": {},
     "output_type": "execute_result"
    }
   ],
   "source": [
    "corr.\n"
   ]
  },
  {
   "cell_type": "code",
   "execution_count": null,
   "id": "1aa02566",
   "metadata": {},
   "outputs": [],
   "source": []
  },
  {
   "cell_type": "markdown",
   "id": "6fbde9c8",
   "metadata": {},
   "source": [
    "Задание:\n",
    "\n",
    "  Посчитайте общее количество пропущенных данных по каждому признаку\n",
    "  посчитайте долю пропущенных данных выборки\n",
    "  удалите из выборки признаки, доля пропущенных которых больще 10%\n",
    "  пропущенные категориальные заполните словом 'unknown' (у них dtype object)\n",
    "  пропущенные числовые заполните средним (у них dtype float)"
   ]
  },
  {
   "cell_type": "code",
   "execution_count": 82,
   "id": "bb2893ed",
   "metadata": {},
   "outputs": [],
   "source": [
    "lost_n = df.isnull().sum()\n",
    "dol_l = lost_n.apply(lambda x: x/df.shape[0])\n",
    "\n",
    "df_non = df[df.columns[dol_l < 0.1]]\n"
   ]
  },
  {
   "cell_type": "code",
   "execution_count": 126,
   "id": "ce621efc",
   "metadata": {},
   "outputs": [
    {
     "name": "stderr",
     "output_type": "stream",
     "text": [
      "C:\\Users\\Ильнар\\AppData\\Local\\Temp\\ipykernel_10780\\221879752.py:5: SettingWithCopyWarning: \n",
      "A value is trying to be set on a copy of a slice from a DataFrame.\n",
      "Try using .loc[row_indexer,col_indexer] = value instead\n",
      "\n",
      "See the caveats in the documentation: https://pandas.pydata.org/pandas-docs/stable/user_guide/indexing.html#returning-a-view-versus-a-copy\n",
      "  df_non[i] = df_non[i].fillna(np.mean(df_non[i]))\n",
      "C:\\Users\\Ильнар\\AppData\\Local\\Temp\\ipykernel_10780\\221879752.py:3: SettingWithCopyWarning: \n",
      "A value is trying to be set on a copy of a slice from a DataFrame.\n",
      "Try using .loc[row_indexer,col_indexer] = value instead\n",
      "\n",
      "See the caveats in the documentation: https://pandas.pydata.org/pandas-docs/stable/user_guide/indexing.html#returning-a-view-versus-a-copy\n",
      "  df_non[i] = df_non[i].fillna('unknown')\n"
     ]
    }
   ],
   "source": [
    "# пропущенные категориальные заполните словом 'unknown' (у них dtype object)\n",
    "# пропущенные числовые заполните средним (у них dtype float)\n",
    "for i in df_non.columns:\n",
    "    if df_non[i].dtype == object:\n",
    "        df_non[i] = df_non[i].fillna('unknown')\n",
    "    else:\n",
    "        df_non[i] = df_non[i].fillna(np.mean(df_non[i]))"
   ]
  },
  {
   "cell_type": "markdown",
   "id": "5d2f8c3f",
   "metadata": {},
   "source": [
    "На сколько вы помните, линейная регрессия не умеет обрабатывать категориальные признаки, так как ей нужны ЧИСЛА. Но не беда, в pandas есть встроенная функция get_dummies.\n",
    "\n",
    "Задание:\n",
    "\n",
    "сконвертируйте все категориальные признаки(dtype=object) в вектора числовых с помощью get_dummies\n",
    "напечатайте сколько у вас теперь признаков\n",
    "Положите в переменную X все данные из датасета, кроме целевой переменной. Положите в переменную y только целевую переменную."
   ]
  },
  {
   "cell_type": "code",
   "execution_count": 140,
   "id": "f575f404",
   "metadata": {},
   "outputs": [],
   "source": [
    "columns = []\n",
    "for i in df_non.columns:\n",
    "    if df_non[i].dtype == object:\n",
    "        columns.append(i)"
   ]
  },
  {
   "cell_type": "code",
   "execution_count": 186,
   "id": "1e10c070",
   "metadata": {},
   "outputs": [],
   "source": [
    "df_dimmed = pd.get_dummies(df_non,columns=columns)\n",
    "df_dimmed = df_dimmed.reset_index()"
   ]
  },
  {
   "cell_type": "markdown",
   "id": "73605447",
   "metadata": {},
   "source": [
    "Обучим обычную модель без регуляризации sklearn.linear_model.LinearRegression.\n",
    "\n",
    "Выведите все коэффициенты для каждого признака, отсортировав по возрастанию по модулю значения коэффициента. Используйте print и for, иначе jupyter схлопнет вывод numpy массива. Можете округлить коэффициенты до 2 знаков после запятой.\n",
    "Выведите среднее ошибки предсказания на 5 фолдах (cv=5) для этой линейной регрессии с помощью функции sklearn.model_selection.cross_val_score. Укажите scoring='neg_mean_squared_error', чтобы считалась MSE"
   ]
  },
  {
   "cell_type": "code",
   "execution_count": 188,
   "id": "61769970",
   "metadata": {},
   "outputs": [],
   "source": [
    "from sklearn.model_selection import train_test_split\n",
    "from sklearn.linear_model import LinearRegression\n",
    "\n",
    "\n",
    "X = df_dimmed.drop(['SalePrice','Id'],axis=1)\n",
    "y = df_dimmed.SalePrice\n",
    "\n",
    "X_train,X_test,y_train,y_test = train_test_split(X,y,test_size=0.33)"
   ]
  },
  {
   "cell_type": "code",
   "execution_count": 293,
   "id": "352bee28",
   "metadata": {},
   "outputs": [
    {
     "data": {
      "text/plain": [
       "LinearRegression()"
      ]
     },
     "execution_count": 293,
     "metadata": {},
     "output_type": "execute_result"
    }
   ],
   "source": [
    "from sklearn.model_selection import cross_val_score\n",
    "clf = LinearRegression()\n",
    "clf.fit(X_train,y_train)\n",
    "\n"
   ]
  },
  {
   "cell_type": "code",
   "execution_count": 192,
   "id": "294f99f1",
   "metadata": {},
   "outputs": [
    {
     "name": "stdout",
     "output_type": "stream",
     "text": [
      "0.0\n",
      "0.0\n",
      "0.0\n",
      "0.08\n",
      "0.37\n",
      "0.79\n",
      "1.03\n",
      "7.73\n",
      "12.92\n",
      "14.86\n",
      "16.65\n",
      "18.97\n",
      "19.19\n",
      "32.9\n",
      "69.27\n",
      "92.69\n",
      "96.83\n",
      "131.4\n",
      "245.09\n",
      "297.31\n",
      "718.32\n",
      "998.29\n",
      "2250.19\n",
      "2311.6\n",
      "3555.77\n",
      "4024.64\n",
      "4136.02\n",
      "5495.32\n",
      "6102.4\n",
      "8007.27\n",
      "14095.56\n",
      "68843.39\n",
      "163691.55\n",
      "1088551.36\n",
      "4988844.12\n",
      "39304791.66\n",
      "80090644.03\n",
      "111554937.49\n",
      "111575831.28\n",
      "111588014.63\n",
      "111592388.57\n",
      "111602331.17\n",
      "111608228.76\n",
      "111615190.49\n",
      "111616530.34\n",
      "111616801.43\n",
      "164673209.57\n",
      "290492569.05\n",
      "290498622.74\n",
      "290501227.22\n",
      "290528855.47\n",
      "384988154.42\n",
      "384990160.74\n",
      "384992511.56\n",
      "384992521.57\n",
      "384996761.01\n",
      "385009810.25\n",
      "530008353.2\n",
      "530010797.33\n",
      "530012928.34\n",
      "530025236.98\n",
      "530029249.7\n",
      "530030583.02\n",
      "530033247.59\n",
      "530036943.22\n",
      "530039194.89\n",
      "1070460771.54\n",
      "1070464355.04\n",
      "1070468036.78\n",
      "1070474363.07\n",
      "1070483206.74\n",
      "1070485391.8\n",
      "1070542380.11\n",
      "1268546323.25\n",
      "1268554065.78\n",
      "1268573034.55\n",
      "1268574333.63\n",
      "1268796483.15\n",
      "1336902347.46\n",
      "1336903619.04\n",
      "1336907599.87\n",
      "1336920729.29\n",
      "1336921876.72\n",
      "1336924808.17\n",
      "1336925363.5\n",
      "1336926465.67\n",
      "1336928640.59\n",
      "1336930244.5\n",
      "1336930756.65\n",
      "1336937146.42\n",
      "1337015941.37\n",
      "1358533081.07\n",
      "1359173479.81\n",
      "1359187185.81\n",
      "1359208182.28\n",
      "1359257868.11\n",
      "1359307425.33\n",
      "1359313734.9\n",
      "1376346494.66\n",
      "1376356843.83\n",
      "1376364394.47\n",
      "1376370716.45\n",
      "2142869532.81\n",
      "2142881948.1\n",
      "2142891034.51\n",
      "2142891802.96\n",
      "2142894337.58\n",
      "2142909261.43\n",
      "2183088339.7\n",
      "2429266372.02\n",
      "2429266372.02\n",
      "2767074203.06\n",
      "3347020589.44\n",
      "3347021642.09\n",
      "3347029863.78\n",
      "3347030442.2\n",
      "3445303725.95\n",
      "3445304989.03\n",
      "3445310033.74\n",
      "3445369519.37\n",
      "3928753828.55\n",
      "3928762221.7\n",
      "3928766453.38\n",
      "3928773442.94\n",
      "3928781119.05\n",
      "3928785116.25\n",
      "3928787678.61\n",
      "3928789226.26\n",
      "3928789294.07\n",
      "3928792055.01\n",
      "3928792307.66\n",
      "3928792633.93\n",
      "3928795572.82\n",
      "3928795615.78\n",
      "3928796277.92\n",
      "3928800886.55\n",
      "3928801153.22\n",
      "3928801491.27\n",
      "3928802331.01\n",
      "3928805039.63\n",
      "3928807828.85\n",
      "3928808136.94\n",
      "3928809670.33\n",
      "3928812406.56\n",
      "3928814994.44\n",
      "4018384167.2\n",
      "4018413971.2\n",
      "4018414089.15\n",
      "4018417145.42\n",
      "4018417280.12\n",
      "4018420456.0\n",
      "4018446832.3\n",
      "4131969480.31\n",
      "4131969987.76\n",
      "4131972595.25\n",
      "4131972817.64\n",
      "4131977838.7\n",
      "4527382834.61\n",
      "4527399697.59\n",
      "5249043304.5\n",
      "5249050002.27\n",
      "5249084214.63\n",
      "5331687740.2\n",
      "6027975184.08\n",
      "6033707259.14\n",
      "6033710081.38\n",
      "6033711330.63\n",
      "6033716942.22\n",
      "6064429684.23\n",
      "6064429684.23\n",
      "6250413913.78\n",
      "6250414372.9\n",
      "6250415466.58\n",
      "6250418076.4\n",
      "6941977833.44\n",
      "6941977833.44\n",
      "6941977833.44\n",
      "8012655340.11\n",
      "8012658269.35\n",
      "8012661548.52\n",
      "8012676407.65\n",
      "8566653429.77\n",
      "8566658352.85\n",
      "8566673355.85\n",
      "8566677715.45\n",
      "8566678892.47\n",
      "8566681587.18\n",
      "8643410601.62\n",
      "8643410900.93\n",
      "8643412740.11\n",
      "8643414534.31\n",
      "8643428154.11\n",
      "8770089916.66\n",
      "8770092463.55\n",
      "8770098667.31\n",
      "8770102352.71\n",
      "8770110813.34\n",
      "9749694273.19\n",
      "9749708587.38\n",
      "9749712271.3\n",
      "9749719016.33\n",
      "9749720469.55\n",
      "10090452188.53\n",
      "10090452196.23\n",
      "10090455205.71\n",
      "10540075813.61\n",
      "10540077043.15\n",
      "10540077614.1\n",
      "10546002658.38\n",
      "10546005768.55\n",
      "10546007508.69\n",
      "10546023889.85\n",
      "12298788390.78\n",
      "13277533487.17\n",
      "13662130328.02\n",
      "13662134481.32\n",
      "13662138565.47\n",
      "13662145586.76\n",
      "15279448938.49\n",
      "15279449854.99\n",
      "16217144379.54\n",
      "16217149506.89\n",
      "16217150649.79\n",
      "16217151250.84\n",
      "16217153773.06\n",
      "16217156706.92\n",
      "21308974341.76\n",
      "21308986573.35\n",
      "21308989666.1\n",
      "21308989683.83\n",
      "21309004808.35\n",
      "26913239392.92\n",
      "26913251809.54\n",
      "26913252859.2\n",
      "26913263237.58\n",
      "26913264098.34\n",
      "26913267196.62\n",
      "26913267558.85\n",
      "26913267738.7\n",
      "26913272648.8\n",
      "26913273817.63\n",
      "26913274713.22\n",
      "26913275587.52\n",
      "26913278409.35\n",
      "26913292405.1\n",
      "26913336306.61\n",
      "31383219445.28\n",
      "31383225571.2\n",
      "31383227019.6\n",
      "31383233039.09\n",
      "31383236409.34\n",
      "31383249701.21\n",
      "31383253848.2\n",
      "31383268938.6\n",
      "32742761374.81\n",
      "32742762553.3\n",
      "32742775451.14\n",
      "32742776776.79\n",
      "32742782994.68\n",
      "40594948558.5\n",
      "40594959881.84\n",
      "40594965355.66\n",
      "40594965867.94\n",
      "42047300450.94\n",
      "42047303366.47\n",
      "42047303382.55\n",
      "42047305777.99\n",
      "62462866443.89\n",
      "62462902368.51\n",
      "62462903614.51\n",
      "62462905881.14\n",
      "62462918100.74\n",
      "593532546110.74\n",
      "593532546130.37\n",
      "593532546131.6\n",
      "593532546154.13\n",
      "3123258628587.44\n",
      "3123258628625.92\n",
      "3123258628631.01\n",
      "3123258628657.78\n"
     ]
    }
   ],
   "source": [
    "for i in np.sort(np.abs(clf.coef_)):\n",
    "    print(round(i,2))"
   ]
  },
  {
   "cell_type": "code",
   "execution_count": 294,
   "id": "473bbc0c",
   "metadata": {},
   "outputs": [
    {
     "data": {
      "text/plain": [
       "-3.88777830757323e+18"
      ]
     },
     "execution_count": 294,
     "metadata": {},
     "output_type": "execute_result"
    }
   ],
   "source": [
    "pred_y = clf.predict(X_train)\n",
    "np.mean(cross_val_score(clf,X_train,y_train,cv=5,scoring='neg_mean_squared_error'))"
   ]
  },
  {
   "cell_type": "markdown",
   "id": "88c8893a",
   "metadata": {},
   "source": [
    "Обучите Lasso и Ridge для разных значений регуляризации alpha\n",
    "нарисуйте график значений коэффициентов модели для каждого признака, как мы делали на практике. По оси X будет значение alpha, по Y - значение коэффициента. на графике будет \"радуга\" из линий разных цветов(линий столько, сколько признаков).\n",
    "Нарисуйте гистограмму, в которой по оси Y будет количество коэффициентов, равных 0 (<0.0001) для Loss регресиии, а по оси X - значение коэффициента альфа.\n",
    "alpha взять от 1 до 500 с каким-нибудь шагом. Но не переборщите, а то долго будете ждать."
   ]
  },
  {
   "cell_type": "code",
   "execution_count": 204,
   "id": "2d9699e2",
   "metadata": {},
   "outputs": [],
   "source": [
    "from sklearn.linear_model import Ridge\n",
    "from sklearn.linear_model import Lasso"
   ]
  },
  {
   "cell_type": "code",
   "execution_count": 226,
   "id": "78f9c2cb",
   "metadata": {},
   "outputs": [
    {
     "data": {
      "image/png": "[encoded data removed]",
      "text/plain": [
       "<Figure size 1008x864 with 1 Axes>"
      ]
     },
     "metadata": {
      "needs_background": "light"
     },
     "output_type": "display_data"
    }
   ],
   "source": [
    "f,ax = plt.subplots(figsize=(14,12))\n",
    "\n",
    "for i in range(1,500,5):\n",
    "    clf_r = Ridge(alpha=i)\n",
    "    clf_r.fit(X_train,y_train)\n",
    "    ax.plot(np.repeat(i,clf_r.coef_.shape[0]),clf_r.coef_)\n"
   ]
  },
  {
   "cell_type": "code",
   "execution_count": 275,
   "id": "814931c1",
   "metadata": {},
   "outputs": [
    {
     "name": "stderr",
     "output_type": "stream",
     "text": [
      "C:\\python\\__pycache__\\envs\\dsfs\\lib\\site-packages\\sklearn\\linear_model\\_coordinate_descent.py:647: ConvergenceWarning: Objective did not converge. You might want to increase the number of iterations, check the scale of the features or consider increasing regularisation. Duality gap: 1.961e+11, tolerance: 6.172e+08\n",
      "  model = cd_fast.enet_coordinate_descent(\n"
     ]
    },
    {
     "data": {
      "text/plain": [
       "(array([1., 0., 0., 0., 0., 1., 0., 1., 3., 4.]),\n",
       " array([ 40. ,  57.7,  75.4,  93.1, 110.8, 128.5, 146.2, 163.9, 181.6,\n",
       "        199.3, 217. ]),\n",
       " <BarContainer object of 10 artists>)"
      ]
     },
     "execution_count": 275,
     "metadata": {},
     "output_type": "execute_result"
    },
    {
     "data": {
      "image/png": "[encoded data removed]",
      "text/plain": [
       "<Figure size 1008x864 with 1 Axes>"
      ]
     },
     "metadata": {
      "needs_background": "light"
     },
     "output_type": "display_data"
    }
   ],
   "source": [
    "f,ax = plt.subplots(figsize=(14,12))\n",
    "\n",
    "ls = []\n",
    "for i in range(1,500,50):\n",
    "    clf_l = Lasso(alpha=i)\n",
    "    clf_l.fit(X_train,y_train)\n",
    "    ls.append(np.sum(clf_l.coef_==0))\n",
    "\n",
    "plt.hist(ls)"
   ]
  },
  {
   "cell_type": "markdown",
   "id": "168f72bb",
   "metadata": {},
   "source": [
    "С помощью метода LassoCV найдите оптимальное значение alpha и напечатайте его, используя разбиение на 5 фолда в кроссвалидации (cv=5).\n",
    "Нарисуйте график зависимости MSE от alpha (mse_path_).\n",
    "Нарисуйте длинную гистограмму магнитуда признаков, как в классе, на которой будет показано значение коэффициента для каждого признака. Графк должен быть остортирован по величине коэффициентов. Признаки с нулевыми коэффициентами должны быть удалены.\n",
    "Сколько в итоге ненулевых признаков осталось?\n",
    "Выведите среднее ошибки предсказания на 5 фолдах (cv=5) для этой линейной регрессии с помощью функции sklearn.model_selection.cross_val_score. Укажите scoring='neg_mean_squared_error', чтобы считалась MSE. Качество должно быть лучше, чем у простой линейной регрессии."
   ]
  },
  {
   "cell_type": "code",
   "execution_count": 234,
   "id": "db30dc23",
   "metadata": {},
   "outputs": [],
   "source": [
    "from sklearn.linear_model import LassoCV"
   ]
  },
  {
   "cell_type": "code",
   "execution_count": 236,
   "id": "b5ce0a59",
   "metadata": {},
   "outputs": [
    {
     "name": "stderr",
     "output_type": "stream",
     "text": [
      "C:\\python\\__pycache__\\envs\\dsfs\\lib\\site-packages\\sklearn\\linear_model\\_coordinate_descent.py:633: ConvergenceWarning: Objective did not converge. You might want to increase the number of iterations. Duality gap: 711582285.6090698, tolerance: 511682504.6879924\n",
      "  model = cd_fast.enet_coordinate_descent_gram(\n",
      "C:\\python\\__pycache__\\envs\\dsfs\\lib\\site-packages\\sklearn\\linear_model\\_coordinate_descent.py:633: ConvergenceWarning: Objective did not converge. You might want to increase the number of iterations. Duality gap: 99466977727.27367, tolerance: 436576659.1454691\n",
      "  model = cd_fast.enet_coordinate_descent_gram(\n",
      "C:\\python\\__pycache__\\envs\\dsfs\\lib\\site-packages\\sklearn\\linear_model\\_coordinate_descent.py:633: ConvergenceWarning: Objective did not converge. You might want to increase the number of iterations. Duality gap: 136373113162.67047, tolerance: 513340815.9755668\n",
      "  model = cd_fast.enet_coordinate_descent_gram(\n",
      "C:\\python\\__pycache__\\envs\\dsfs\\lib\\site-packages\\sklearn\\linear_model\\_coordinate_descent.py:633: ConvergenceWarning: Objective did not converge. You might want to increase the number of iterations. Duality gap: 26567657974.316223, tolerance: 496966195.6107725\n",
      "  model = cd_fast.enet_coordinate_descent_gram(\n",
      "C:\\python\\__pycache__\\envs\\dsfs\\lib\\site-packages\\sklearn\\linear_model\\_coordinate_descent.py:633: ConvergenceWarning: Objective did not converge. You might want to increase the number of iterations. Duality gap: 18160921328.057465, tolerance: 509536923.3789712\n",
      "  model = cd_fast.enet_coordinate_descent_gram(\n"
     ]
    },
    {
     "data": {
      "text/plain": [
       "LassoCV(alphas=[1, 11, 21, 31, 41, 51, 61, 71, 81, 91, 101, 111, 121, 131, 141,\n",
       "                151, 161, 171, 181, 191, 201, 211, 221, 231, 241, 251, 261, 271,\n",
       "                281, 291, ...],\n",
       "        cv=5)"
      ]
     },
     "execution_count": 236,
     "metadata": {},
     "output_type": "execute_result"
    }
   ],
   "source": [
    "clf_l_c = LassoCV(cv=5,alphas=[i for i in range(1,500,10)])\n",
    "clf_l_c.fit(X_train,y_train)"
   ]
  },
  {
   "cell_type": "code",
   "execution_count": 296,
   "id": "156cad96",
   "metadata": {},
   "outputs": [
    {
     "data": {
      "text/plain": [
       "Text(0, 0.5, 'Среднее значение MSE')"
      ]
     },
     "execution_count": 296,
     "metadata": {},
     "output_type": "execute_result"
    },
    {
     "data": {
      "image/png": "[encoded data removed]",
      "text/plain": [
       "<Figure size 1008x792 with 1 Axes>"
      ]
     },
     "metadata": {
      "needs_background": "light"
     },
     "output_type": "display_data"
    }
   ],
   "source": [
    "f,ax = plt.subplots(figsize=(14,11))\n",
    "alph = [i for i in range(1,500,10)]\n",
    "for i in range(len(alph)):\n",
    "    ax.scatter(alph[i],np.mean(clf_l_c.mse_path_[i]))\n",
    "plt.title('Зависимость MSE от alpha')\n",
    "plt.xlabel('Значение aplha')\n",
    "plt.ylabel(\"Среднее значение MSE\")"
   ]
  },
  {
   "cell_type": "code",
   "execution_count": 283,
   "id": "b86ac6d8",
   "metadata": {},
   "outputs": [],
   "source": [
    "arr_c = np.array(clf_l_c.coef_)"
   ]
  },
  {
   "cell_type": "code",
   "execution_count": 289,
   "id": "bf7ad0ff",
   "metadata": {},
   "outputs": [
    {
     "data": {
      "text/plain": [
       "array([-2.84897767e+05, -7.90701597e+04, -8.48813146e+03, -7.99351100e+03,\n",
       "       -7.08073253e+03, -5.94041661e+03, -5.30934326e+03, -4.93090253e+03,\n",
       "       -4.67265272e+03, -3.92958308e+03, -3.91067435e+03, -3.88404665e+03,\n",
       "       -3.32269923e+03, -3.12113066e+03, -2.92762705e+03, -2.71459318e+03,\n",
       "       -2.45758960e+03, -8.81096719e+02, -8.12632438e+02, -6.02709487e+02,\n",
       "       -5.17280462e+02, -4.89906950e+02, -4.08213765e+02, -3.95472912e+02,\n",
       "       -1.84433816e+02, -1.97963939e+01, -1.62156341e+01, -7.87057831e+00,\n",
       "       -3.38425924e-01,  2.46704626e-11,  6.87094670e-02,  2.97937671e+00,\n",
       "        4.07065850e+00,  4.34170923e+00,  4.85524964e+00,  5.99207837e+00,\n",
       "        8.56119506e+00,  1.04782707e+01,  1.10204798e+01,  1.15073361e+01,\n",
       "        1.23616552e+01,  1.82133970e+01,  2.05221136e+01,  3.24307031e+01,\n",
       "        3.76447640e+01,  5.03048620e+01,  5.52623771e+01,  5.57233006e+01,\n",
       "        1.20447276e+02,  2.85290242e+02,  2.91409949e+02,  1.11787253e+03,\n",
       "        1.18899216e+03,  1.91659692e+03,  1.92879936e+03,  2.41530499e+03,\n",
       "        2.58685035e+03,  2.64982886e+03,  2.81220713e+03,  2.86145948e+03,\n",
       "        3.39080247e+03,  4.36759051e+03,  4.58524532e+03,  4.79390334e+03,\n",
       "        5.30139918e+03,  5.66639277e+03,  6.21812863e+03,  6.28966073e+03,\n",
       "        6.34726975e+03,  7.12953327e+03,  7.67830167e+03,  8.53929560e+03,\n",
       "        8.56448288e+03,  9.01894293e+03,  9.68388831e+03,  9.85477557e+03,\n",
       "        1.36777445e+04,  1.49067689e+04,  1.66432487e+04,  2.01963409e+04,\n",
       "        2.05413950e+04,  2.14180006e+04,  2.46448692e+04,  2.58496675e+04,\n",
       "        3.21306987e+04,  3.97424316e+04])"
      ]
     },
     "execution_count": 289,
     "metadata": {},
     "output_type": "execute_result"
    }
   ],
   "source": [
    "np.sort(arr_c[arr_c!=0])"
   ]
  },
  {
   "cell_type": "code",
   "execution_count": 291,
   "id": "df92b43d",
   "metadata": {},
   "outputs": [
    {
     "name": "stderr",
     "output_type": "stream",
     "text": [
      "C:\\python\\__pycache__\\envs\\dsfs\\lib\\site-packages\\sklearn\\linear_model\\_coordinate_descent.py:633: ConvergenceWarning: Objective did not converge. You might want to increase the number of iterations. Duality gap: 76010657587.05939, tolerance: 378032108.97096246\n",
      "  model = cd_fast.enet_coordinate_descent_gram(\n",
      "C:\\python\\__pycache__\\envs\\dsfs\\lib\\site-packages\\sklearn\\linear_model\\_coordinate_descent.py:633: ConvergenceWarning: Objective did not converge. You might want to increase the number of iterations. Duality gap: 528841108.7011719, tolerance: 409286257.6705257\n",
      "  model = cd_fast.enet_coordinate_descent_gram(\n",
      "C:\\python\\__pycache__\\envs\\dsfs\\lib\\site-packages\\sklearn\\linear_model\\_coordinate_descent.py:633: ConvergenceWarning: Objective did not converge. You might want to increase the number of iterations. Duality gap: 2452719685.33374, tolerance: 429040681.94448763\n",
      "  model = cd_fast.enet_coordinate_descent_gram(\n",
      "C:\\python\\__pycache__\\envs\\dsfs\\lib\\site-packages\\sklearn\\linear_model\\_coordinate_descent.py:633: ConvergenceWarning: Objective did not converge. You might want to increase the number of iterations. Duality gap: 85238720714.85478, tolerance: 429040681.94448763\n",
      "  model = cd_fast.enet_coordinate_descent_gram(\n",
      "C:\\python\\__pycache__\\envs\\dsfs\\lib\\site-packages\\sklearn\\linear_model\\_coordinate_descent.py:633: ConvergenceWarning: Objective did not converge. You might want to increase the number of iterations. Duality gap: 101576532139.868, tolerance: 413844093.02687293\n",
      "  model = cd_fast.enet_coordinate_descent_gram(\n",
      "C:\\python\\__pycache__\\envs\\dsfs\\lib\\site-packages\\sklearn\\linear_model\\_coordinate_descent.py:633: ConvergenceWarning: Objective did not converge. You might want to increase the number of iterations. Duality gap: 2840283968.866028, tolerance: 415949122.18321157\n",
      "  model = cd_fast.enet_coordinate_descent_gram(\n",
      "C:\\python\\__pycache__\\envs\\dsfs\\lib\\site-packages\\sklearn\\linear_model\\_coordinate_descent.py:633: ConvergenceWarning: Objective did not converge. You might want to increase the number of iterations. Duality gap: 94613785648.2365, tolerance: 415949122.18321157\n",
      "  model = cd_fast.enet_coordinate_descent_gram(\n",
      "C:\\python\\__pycache__\\envs\\dsfs\\lib\\site-packages\\sklearn\\linear_model\\_coordinate_descent.py:633: ConvergenceWarning: Objective did not converge. You might want to increase the number of iterations. Duality gap: 67097600168.924835, tolerance: 351651742.59257346\n",
      "  model = cd_fast.enet_coordinate_descent_gram(\n",
      "C:\\python\\__pycache__\\envs\\dsfs\\lib\\site-packages\\sklearn\\linear_model\\_coordinate_descent.py:633: ConvergenceWarning: Objective did not converge. You might want to increase the number of iterations. Duality gap: 59303414977.71443, tolerance: 360491341.97612566\n",
      "  model = cd_fast.enet_coordinate_descent_gram(\n",
      "C:\\python\\__pycache__\\envs\\dsfs\\lib\\site-packages\\sklearn\\linear_model\\_coordinate_descent.py:633: ConvergenceWarning: Objective did not converge. You might want to increase the number of iterations. Duality gap: 15290036737.989319, tolerance: 339526426.85567343\n",
      "  model = cd_fast.enet_coordinate_descent_gram(\n",
      "C:\\python\\__pycache__\\envs\\dsfs\\lib\\site-packages\\sklearn\\linear_model\\_coordinate_descent.py:633: ConvergenceWarning: Objective did not converge. You might want to increase the number of iterations. Duality gap: 66012548699.007904, tolerance: 340636694.06704235\n",
      "  model = cd_fast.enet_coordinate_descent_gram(\n",
      "C:\\python\\__pycache__\\envs\\dsfs\\lib\\site-packages\\sklearn\\linear_model\\_coordinate_descent.py:633: ConvergenceWarning: Objective did not converge. You might want to increase the number of iterations. Duality gap: 25054524428.581116, tolerance: 428294692.2742505\n",
      "  model = cd_fast.enet_coordinate_descent_gram(\n",
      "C:\\python\\__pycache__\\envs\\dsfs\\lib\\site-packages\\sklearn\\linear_model\\_coordinate_descent.py:633: ConvergenceWarning: Objective did not converge. You might want to increase the number of iterations. Duality gap: 6816405411.189056, tolerance: 428294692.2742505\n",
      "  model = cd_fast.enet_coordinate_descent_gram(\n",
      "C:\\python\\__pycache__\\envs\\dsfs\\lib\\site-packages\\sklearn\\linear_model\\_coordinate_descent.py:633: ConvergenceWarning: Objective did not converge. You might want to increase the number of iterations. Duality gap: 74385707959.47737, tolerance: 384635253.907073\n",
      "  model = cd_fast.enet_coordinate_descent_gram(\n",
      "C:\\python\\__pycache__\\envs\\dsfs\\lib\\site-packages\\sklearn\\linear_model\\_coordinate_descent.py:633: ConvergenceWarning: Objective did not converge. You might want to increase the number of iterations. Duality gap: 122261489279.5501, tolerance: 406633363.77526593\n",
      "  model = cd_fast.enet_coordinate_descent_gram(\n",
      "C:\\python\\__pycache__\\envs\\dsfs\\lib\\site-packages\\sklearn\\linear_model\\_coordinate_descent.py:633: ConvergenceWarning: Objective did not converge. You might want to increase the number of iterations. Duality gap: 16592949692.777008, tolerance: 417562462.3429668\n",
      "  model = cd_fast.enet_coordinate_descent_gram(\n",
      "C:\\python\\__pycache__\\envs\\dsfs\\lib\\site-packages\\sklearn\\linear_model\\_coordinate_descent.py:633: ConvergenceWarning: Objective did not converge. You might want to increase the number of iterations. Duality gap: 70207389976.51164, tolerance: 411812501.0429917\n",
      "  model = cd_fast.enet_coordinate_descent_gram(\n",
      "C:\\python\\__pycache__\\envs\\dsfs\\lib\\site-packages\\sklearn\\linear_model\\_coordinate_descent.py:633: ConvergenceWarning: Objective did not converge. You might want to increase the number of iterations. Duality gap: 72972324949.46985, tolerance: 368389845.76993287\n",
      "  model = cd_fast.enet_coordinate_descent_gram(\n",
      "C:\\python\\__pycache__\\envs\\dsfs\\lib\\site-packages\\sklearn\\linear_model\\_coordinate_descent.py:633: ConvergenceWarning: Objective did not converge. You might want to increase the number of iterations. Duality gap: 13131804899.804321, tolerance: 395374666.31275296\n",
      "  model = cd_fast.enet_coordinate_descent_gram(\n",
      "C:\\python\\__pycache__\\envs\\dsfs\\lib\\site-packages\\sklearn\\linear_model\\_coordinate_descent.py:633: ConvergenceWarning: Objective did not converge. You might want to increase the number of iterations. Duality gap: 10800223445.82486, tolerance: 395374666.31275296\n",
      "  model = cd_fast.enet_coordinate_descent_gram(\n",
      "C:\\python\\__pycache__\\envs\\dsfs\\lib\\site-packages\\sklearn\\linear_model\\_coordinate_descent.py:633: ConvergenceWarning: Objective did not converge. You might want to increase the number of iterations. Duality gap: 10438689572.90326, tolerance: 401228639.7528999\n",
      "  model = cd_fast.enet_coordinate_descent_gram(\n",
      "C:\\python\\__pycache__\\envs\\dsfs\\lib\\site-packages\\sklearn\\linear_model\\_coordinate_descent.py:633: ConvergenceWarning: Objective did not converge. You might want to increase the number of iterations. Duality gap: 68802421225.50252, tolerance: 424351747.1732876\n",
      "  model = cd_fast.enet_coordinate_descent_gram(\n",
      "C:\\python\\__pycache__\\envs\\dsfs\\lib\\site-packages\\sklearn\\linear_model\\_coordinate_descent.py:633: ConvergenceWarning: Objective did not converge. You might want to increase the number of iterations. Duality gap: 48979980454.03583, tolerance: 380987970.1211681\n",
      "  model = cd_fast.enet_coordinate_descent_gram(\n",
      "C:\\python\\__pycache__\\envs\\dsfs\\lib\\site-packages\\sklearn\\linear_model\\_coordinate_descent.py:633: ConvergenceWarning: Objective did not converge. You might want to increase the number of iterations. Duality gap: 54162921218.692474, tolerance: 407960754.023236\n",
      "  model = cd_fast.enet_coordinate_descent_gram(\n",
      "C:\\python\\__pycache__\\envs\\dsfs\\lib\\site-packages\\sklearn\\linear_model\\_coordinate_descent.py:633: ConvergenceWarning: Objective did not converge. You might want to increase the number of iterations. Duality gap: 82250132745.5256, tolerance: 419002942.4170635\n",
      "  model = cd_fast.enet_coordinate_descent_gram(\n",
      "C:\\python\\__pycache__\\envs\\dsfs\\lib\\site-packages\\sklearn\\linear_model\\_coordinate_descent.py:633: ConvergenceWarning: Objective did not converge. You might want to increase the number of iterations. Duality gap: 121575795837.27771, tolerance: 405732832.59998405\n",
      "  model = cd_fast.enet_coordinate_descent_gram(\n"
     ]
    },
    {
     "data": {
      "text/plain": [
       "-1363119763.9955568"
      ]
     },
     "execution_count": 291,
     "metadata": {},
     "output_type": "execute_result"
    }
   ],
   "source": [
    "np.mean(cross_val_score(clf_l_c,X_train,y_train,cv=5,scoring='neg_mean_squared_error'))"
   ]
  },
  {
   "cell_type": "markdown",
   "id": "8f53d68c",
   "metadata": {},
   "source": [
    "Теперь, возьмите вашу самую мощную модель(не тренированную!). Запустите её тренировку по тренировочной выборке X_train, y_train с помощью функции fit. Постройте предсказания с помощью функции predict."
   ]
  },
  {
   "cell_type": "code",
   "execution_count": 297,
   "id": "2d6223de",
   "metadata": {},
   "outputs": [
    {
     "data": {
      "text/plain": [
       "Lasso(alpha=300)"
      ]
     },
     "execution_count": 297,
     "metadata": {},
     "output_type": "execute_result"
    }
   ],
   "source": [
    "best_clf = Lasso(alpha=300)\n",
    "best_clf.fit(X_train,y_train)"
   ]
  },
  {
   "cell_type": "code",
   "execution_count": 298,
   "id": "57045ce7",
   "metadata": {},
   "outputs": [
    {
     "data": {
      "text/plain": [
       "<matplotlib.collections.PathCollection at 0x1e72c1ea9a0>"
      ]
     },
     "execution_count": 298,
     "metadata": {},
     "output_type": "execute_result"
    },
    {
     "data": {
      "image/png": "[encoded data removed]",
      "text/plain": [
       "<Figure size 432x288 with 1 Axes>"
      ]
     },
     "metadata": {
      "needs_background": "light"
     },
     "output_type": "display_data"
    }
   ],
   "source": [
    "pred = best_clf.predict(X_test)\n",
    "plt.scatter(pred,y_test)"
   ]
  },
  {
   "cell_type": "markdown",
   "id": "20b3241d",
   "metadata": {},
   "source": [
    "Помните в самом начале мы оставили очень мало признаков по данным из heatmap. Настало время проверить как он себя покажет! К счастью они все сразу числовые, а не категориальные. Переиспользуйте тот дадасет, где вы уже поборолись с пропусками. Снова выделите отдельно X и y и запустите кроссвалидацию c 5 фолдами по Lasso с alpha=1."
   ]
  },
  {
   "cell_type": "code",
   "execution_count": 302,
   "id": "fd452642",
   "metadata": {},
   "outputs": [
    {
     "name": "stderr",
     "output_type": "stream",
     "text": [
      "C:\\python\\__pycache__\\envs\\dsfs\\lib\\site-packages\\sklearn\\linear_model\\_coordinate_descent.py:647: ConvergenceWarning: Objective did not converge. You might want to increase the number of iterations, check the scale of the features or consider increasing regularisation. Duality gap: 2.349e+11, tolerance: 9.208e+08\n",
      "  model = cd_fast.enet_coordinate_descent(\n"
     ]
    },
    {
     "data": {
      "text/plain": [
       "Lasso(alpha=1)"
      ]
     },
     "execution_count": 302,
     "metadata": {},
     "output_type": "execute_result"
    }
   ],
   "source": [
    "clf = Lasso(alpha=1)\n",
    "\n",
    "clf.fit(X,y)"
   ]
  },
  {
   "cell_type": "code",
   "execution_count": 304,
   "id": "94567aab",
   "metadata": {},
   "outputs": [
    {
     "name": "stderr",
     "output_type": "stream",
     "text": [
      "C:\\python\\__pycache__\\envs\\dsfs\\lib\\site-packages\\sklearn\\linear_model\\_coordinate_descent.py:647: ConvergenceWarning: Objective did not converge. You might want to increase the number of iterations, check the scale of the features or consider increasing regularisation. Duality gap: 1.855e+11, tolerance: 7.592e+08\n",
      "  model = cd_fast.enet_coordinate_descent(\n",
      "C:\\python\\__pycache__\\envs\\dsfs\\lib\\site-packages\\sklearn\\linear_model\\_coordinate_descent.py:647: ConvergenceWarning: Objective did not converge. You might want to increase the number of iterations, check the scale of the features or consider increasing regularisation. Duality gap: 7.270e+10, tolerance: 7.288e+08\n",
      "  model = cd_fast.enet_coordinate_descent(\n",
      "C:\\python\\__pycache__\\envs\\dsfs\\lib\\site-packages\\sklearn\\linear_model\\_coordinate_descent.py:647: ConvergenceWarning: Objective did not converge. You might want to increase the number of iterations, check the scale of the features or consider increasing regularisation. Duality gap: 1.952e+11, tolerance: 6.990e+08\n",
      "  model = cd_fast.enet_coordinate_descent(\n",
      "C:\\python\\__pycache__\\envs\\dsfs\\lib\\site-packages\\sklearn\\linear_model\\_coordinate_descent.py:647: ConvergenceWarning: Objective did not converge. You might want to increase the number of iterations, check the scale of the features or consider increasing regularisation. Duality gap: 6.562e+09, tolerance: 7.706e+08\n",
      "  model = cd_fast.enet_coordinate_descent(\n",
      "C:\\python\\__pycache__\\envs\\dsfs\\lib\\site-packages\\sklearn\\linear_model\\_coordinate_descent.py:647: ConvergenceWarning: Objective did not converge. You might want to increase the number of iterations, check the scale of the features or consider increasing regularisation. Duality gap: 1.961e+11, tolerance: 7.249e+08\n",
      "  model = cd_fast.enet_coordinate_descent(\n"
     ]
    },
    {
     "data": {
      "text/plain": [
       "-1167270809.3507915"
      ]
     },
     "execution_count": 304,
     "metadata": {},
     "output_type": "execute_result"
    }
   ],
   "source": [
    "np.mean(cross_val_score(clf,X,y,cv=5,scoring='neg_mean_squared_error'))"
   ]
  }
 ],
 "metadata": {
  "kernelspec": {
   "display_name": "Python 3 (ipykernel)",
   "language": "python",
   "name": "python3"
  },
  "language_info": {
   "codemirror_mode": {
    "name": "ipython",
    "version": 3
   },
   "file_extension": ".py",
   "mimetype": "text/x-python",
   "name": "python",
   "nbconvert_exporter": "python",
   "pygments_lexer": "ipython3",
   "version": "3.9.7"
  }
 },
 "nbformat": 4,
 "nbformat_minor": 5
}
